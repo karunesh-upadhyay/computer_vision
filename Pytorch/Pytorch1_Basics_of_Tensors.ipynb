{
  "nbformat": 4,
  "nbformat_minor": 0,
  "metadata": {
    "colab": {
      "provenance": [],
      "gpuType": "T4"
    },
    "kernelspec": {
      "name": "python3",
      "display_name": "Python 3"
    },
    "language_info": {
      "name": "python"
    },
    "accelerator": "GPU"
  },
  "cells": [
    {
      "cell_type": "markdown",
      "source": [
        "# Definition of Tensor:\n",
        "* A PyTorch Tensor is basically the same as a numpy array\n",
        "* It does not know anything about deep learning or computational graphs or gradients, and is just a generic n-dimensional array to be used for arbitrary numeric computation.\n",
        "* Pytorch uses Tensor to encode inputs, outputs and model's parameters.\n",
        "\n",
        "### Tensors vs np Arrays:\n",
        "* similar except that tensors can run on GPUs. Both can share same underlying memory.\n",
        "* Another diff is that Tensors are optimised for automatic differentiation.\n"
      ],
      "metadata": {
        "id": "c5wRNtmXMn79"
      }
    },
    {
      "cell_type": "markdown",
      "source": [
        "## Types of Tensor : Float and Int ( 2 Types in pytorch)\n",
        "### Precision\n",
        "\n",
        "\n",
        "1.   64-bit\n",
        "* Float: float64, double -> DoubleTensor\n",
        "* Int: int64, long -> LongTensor\n",
        "\n",
        "2.   32-bit\n",
        "* Float: float32, float -> FloatTensor\n",
        "* Int: int32, int -> IntTensor\n",
        "\n",
        "3.   16-bit\n",
        "* Float: float16, half -> HalfTensor\n",
        "* Int, int16, short -> ShortTensor\n",
        "\n",
        "4.   8-bit\n",
        "* Signed: int8 -> ByteTensor\n",
        "* Unsigned: uint8 -> CharTensor\n"
      ],
      "metadata": {
        "id": "_l4FmKCIZMRz"
      }
    },
    {
      "cell_type": "markdown",
      "source": [
        "# Tensor Initialisation\n",
        "### Initialising tensor would require 3 declarations:\n",
        "1. dtype\n",
        "\n",
        "2. device\n",
        "\n",
        "3. requires_grad"
      ],
      "metadata": {
        "id": "4MPIhroYEOI_"
      }
    },
    {
      "cell_type": "code",
      "execution_count": 1,
      "metadata": {
        "id": "pEjCXcPpDleZ"
      },
      "outputs": [],
      "source": [
        "import torch\n",
        "import numpy as np"
      ]
    },
    {
      "cell_type": "code",
      "source": [
        "# [1] dtype\n",
        "# torch.float32, torch.float16 etc\n",
        "\n",
        "# [2] device\n",
        "device = \"cuda\" if torch.cuda.is_available() else \"cpu\"\n",
        "\n",
        "# [3] requires_grad = True/False\n",
        "\n",
        "my_tensor = torch.tensor([[1,2,3],[4,5,6]], \\\n",
        "                         dtype = torch.float32, \\\n",
        "                         device = 'cuda' ,\\\n",
        "                         requires_grad = True)\n",
        "print(my_tensor)"
      ],
      "metadata": {
        "colab": {
          "base_uri": "https://localhost:8080/"
        },
        "id": "8F6aky_tEJQd",
        "outputId": "1fc0ded4-702b-4fcd-ce0f-82621e0ad7f1"
      },
      "execution_count": 2,
      "outputs": [
        {
          "output_type": "stream",
          "name": "stdout",
          "text": [
            "tensor([[1., 2., 3.],\n",
            "        [4., 5., 6.]], device='cuda:0', requires_grad=True)\n"
          ]
        }
      ]
    },
    {
      "cell_type": "code",
      "source": [
        "# Attibutes of Tensor\n",
        "print(my_tensor)\n",
        "print(my_tensor.dtype)\n",
        "print(my_tensor.device)\n",
        "print(my_tensor.shape)\n",
        "print(my_tensor.requires_grad)\n",
        "\n",
        "# tensor from CPU to GPU\n",
        "# tensor.to('cuda')"
      ],
      "metadata": {
        "colab": {
          "base_uri": "https://localhost:8080/"
        },
        "id": "It9RyOE6EnNm",
        "outputId": "90ea86dc-7e95-44c8-9618-c002d27124cb"
      },
      "execution_count": 3,
      "outputs": [
        {
          "output_type": "stream",
          "name": "stdout",
          "text": [
            "tensor([[1., 2., 3.],\n",
            "        [4., 5., 6.]], device='cuda:0', requires_grad=True)\n",
            "torch.float32\n",
            "cuda:0\n",
            "torch.Size([2, 3])\n",
            "True\n"
          ]
        }
      ]
    },
    {
      "cell_type": "code",
      "source": [
        "# NOTE: A Tensor can be created by using torch.Tensor or torch.FloatTensor(captital T) and torch.tensor([])\n",
        "# Default type for torch.Tensor -> float32 i.e. Float Tensor and Default type for torch.tensor -> int64 i.e. Long Tensor\n",
        "# Also cannot define dtype for torch.Tensor which is made to be used as float32. Can change dtype for torch.tensor\n",
        "\n",
        "tensor = torch.Tensor([1,2,3]) # only float 32\n",
        "print(tensor)\n",
        "print(tensor.dtype)\n",
        "\n",
        "tensor = torch.tensor([1,2,3]) # any dtype\n",
        "print(tensor)\n",
        "print(tensor.dtype)"
      ],
      "metadata": {
        "colab": {
          "base_uri": "https://localhost:8080/"
        },
        "id": "onl00pQU_1lo",
        "outputId": "1a8a9261-bc64-41c5-f39f-ccbb815237aa"
      },
      "execution_count": 4,
      "outputs": [
        {
          "output_type": "stream",
          "name": "stdout",
          "text": [
            "tensor([1., 2., 3.])\n",
            "torch.float32\n",
            "tensor([1, 2, 3])\n",
            "torch.int64\n"
          ]
        }
      ]
    },
    {
      "cell_type": "code",
      "source": [
        "# tensor = torch.Tensor([1,2,3],dtype = torch.float64)  # error as dtype can only be torch.float32 for torch.Tensor() and any other type for torch.tensor()"
      ],
      "metadata": {
        "id": "9g-_WUNh_1sI"
      },
      "execution_count": 5,
      "outputs": []
    },
    {
      "cell_type": "code",
      "source": [],
      "metadata": {
        "id": "rUCF8GHg_1wE"
      },
      "execution_count": 5,
      "outputs": []
    },
    {
      "cell_type": "markdown",
      "source": [
        "### Other Common Initialisations\n",
        "\n",
        "1. empty\n",
        "2. zeros\n",
        "3. rand\n",
        "4. ones\n",
        "5. eye ; Identity Matrix\n",
        "6. arange ; ~ to range in python\n"
      ],
      "metadata": {
        "id": "m-7I_7ui-PMv"
      }
    },
    {
      "cell_type": "code",
      "source": [
        "x = torch.empty(size=(3,3))\n",
        "print(x)"
      ],
      "metadata": {
        "colab": {
          "base_uri": "https://localhost:8080/"
        },
        "id": "cKZlh8Zb-ZyH",
        "outputId": "39fd9094-97c0-422b-ad54-b60b4fa87716"
      },
      "execution_count": 6,
      "outputs": [
        {
          "output_type": "stream",
          "name": "stdout",
          "text": [
            "tensor([[0.0000e+00, 0.0000e+00, 7.7052e+31],\n",
            "        [1.9447e+31, 2.1715e-18, 2.3081e-12],\n",
            "        [1.8590e+34, 7.7767e+31, 1.7181e+19]])\n"
          ]
        }
      ]
    },
    {
      "cell_type": "code",
      "source": [
        "x = torch.zeros(size=(3,3))\n",
        "print(x)"
      ],
      "metadata": {
        "colab": {
          "base_uri": "https://localhost:8080/"
        },
        "id": "b3Gec-La-Z-M",
        "outputId": "7112c719-7c52-42f4-cbd6-5ca2d5fed4b9"
      },
      "execution_count": 7,
      "outputs": [
        {
          "output_type": "stream",
          "name": "stdout",
          "text": [
            "tensor([[0., 0., 0.],\n",
            "        [0., 0., 0.],\n",
            "        [0., 0., 0.]])\n"
          ]
        }
      ]
    },
    {
      "cell_type": "code",
      "source": [
        "x = torch.rand(size=(3,3))\n",
        "print(x)"
      ],
      "metadata": {
        "colab": {
          "base_uri": "https://localhost:8080/"
        },
        "id": "txm-WmVK-aBm",
        "outputId": "a7196bc8-265c-4d04-d82d-a799c5f741d7"
      },
      "execution_count": 8,
      "outputs": [
        {
          "output_type": "stream",
          "name": "stdout",
          "text": [
            "tensor([[0.6040, 0.3309, 0.7421],\n",
            "        [0.9283, 0.0757, 0.9344],\n",
            "        [0.0602, 0.0626, 0.5989]])\n"
          ]
        }
      ]
    },
    {
      "cell_type": "code",
      "source": [
        "x = torch.ones(size=(3,3))\n",
        "print(x)"
      ],
      "metadata": {
        "colab": {
          "base_uri": "https://localhost:8080/"
        },
        "id": "t2G930gG-aEq",
        "outputId": "5d412e7c-87c8-4f88-be89-431062c62e15"
      },
      "execution_count": 9,
      "outputs": [
        {
          "output_type": "stream",
          "name": "stdout",
          "text": [
            "tensor([[1., 1., 1.],\n",
            "        [1., 1., 1.],\n",
            "        [1., 1., 1.]])\n"
          ]
        }
      ]
    },
    {
      "cell_type": "code",
      "source": [
        "x = torch.eye(3,3)\n",
        "print(x)"
      ],
      "metadata": {
        "colab": {
          "base_uri": "https://localhost:8080/"
        },
        "id": "U75hk-Yb-aIO",
        "outputId": "b02f21cf-5723-4f9c-c22a-7b9e252925a0"
      },
      "execution_count": 10,
      "outputs": [
        {
          "output_type": "stream",
          "name": "stdout",
          "text": [
            "tensor([[1., 0., 0.],\n",
            "        [0., 1., 0.],\n",
            "        [0., 0., 1.]])\n"
          ]
        }
      ]
    },
    {
      "cell_type": "code",
      "source": [
        "x = torch.arange(start = 3,end = 10, step=1)\n",
        "print(x)"
      ],
      "metadata": {
        "colab": {
          "base_uri": "https://localhost:8080/"
        },
        "id": "quz4btTN-uk-",
        "outputId": "12677074-76fb-4632-fd98-36b0a12f7028"
      },
      "execution_count": 11,
      "outputs": [
        {
          "output_type": "stream",
          "name": "stdout",
          "text": [
            "tensor([3, 4, 5, 6, 7, 8, 9])\n"
          ]
        }
      ]
    },
    {
      "cell_type": "code",
      "source": [
        "x = torch.linspace(start = 0.1,end = 1, steps=10)\n",
        "print(x)"
      ],
      "metadata": {
        "colab": {
          "base_uri": "https://localhost:8080/"
        },
        "id": "rY-M9Y4b-whz",
        "outputId": "3d060bf0-6bcb-4de7-ded3-df745c0f3423"
      },
      "execution_count": 12,
      "outputs": [
        {
          "output_type": "stream",
          "name": "stdout",
          "text": [
            "tensor([0.1000, 0.2000, 0.3000, 0.4000, 0.5000, 0.6000, 0.7000, 0.8000, 0.9000,\n",
            "        1.0000])\n"
          ]
        }
      ]
    },
    {
      "cell_type": "markdown",
      "source": [
        "## Distribution"
      ],
      "metadata": {
        "id": "N8WJWiIY_Qa6"
      }
    },
    {
      "cell_type": "code",
      "source": [
        "x = torch.empty(size = (1,5)).normal_(mean=0,std=1)\n",
        "print(x)"
      ],
      "metadata": {
        "colab": {
          "base_uri": "https://localhost:8080/"
        },
        "id": "8_gjeBtc-wir",
        "outputId": "6e602953-2daf-4383-c3d2-1a3f87cbd45f"
      },
      "execution_count": 13,
      "outputs": [
        {
          "output_type": "stream",
          "name": "stdout",
          "text": [
            "tensor([[ 0.3201,  1.6023, -0.5742, -1.1612,  0.2487]])\n"
          ]
        }
      ]
    },
    {
      "cell_type": "code",
      "source": [
        "x = torch.empty(size = (1,5)).uniform_(0,1) # becomes similar to rand\n",
        "print(x)"
      ],
      "metadata": {
        "id": "qhUV59FK-woY",
        "colab": {
          "base_uri": "https://localhost:8080/"
        },
        "outputId": "29d5690c-6cd6-4277-d1a0-c97975244d1d"
      },
      "execution_count": 14,
      "outputs": [
        {
          "output_type": "stream",
          "name": "stdout",
          "text": [
            "tensor([[0.0596, 0.2678, 0.8279, 0.1783, 0.9690]])\n"
          ]
        }
      ]
    },
    {
      "cell_type": "markdown",
      "source": [
        "# Convert Tensors"
      ],
      "metadata": {
        "id": "asR3GEp2_5UP"
      }
    },
    {
      "cell_type": "code",
      "source": [
        "import torch\n",
        "# Convert tensor to other types:\n",
        "tensor = torch.arange(4)\n",
        "print(tensor)\n",
        "print(tensor.bool()) # True/False\n",
        "print(tensor.type())"
      ],
      "metadata": {
        "colab": {
          "base_uri": "https://localhost:8080/"
        },
        "id": "J-66Sv1A_4ZA",
        "outputId": "c4afd77d-baf1-49cb-cb16-b756b1087b33"
      },
      "execution_count": 15,
      "outputs": [
        {
          "output_type": "stream",
          "name": "stdout",
          "text": [
            "tensor([0, 1, 2, 3])\n",
            "tensor([False,  True,  True,  True])\n",
            "torch.LongTensor\n"
          ]
        }
      ]
    },
    {
      "cell_type": "code",
      "source": [
        "tensor = torch.tensor([1,2,3])  # will result similarly for torch.Tensor([])\n",
        "\n",
        "new_tensor = tensor.type(torch.HalfTensor)\n",
        "print(new_tensor.type())\n",
        "\n",
        "# all floats\n",
        "new_tensor = tensor.double()\n",
        "print(new_tensor.type())\n",
        "\n",
        "new_tensor = tensor.float()\n",
        "print(new_tensor.type())\n",
        "\n",
        "new_tensor = tensor.half()\n",
        "print(new_tensor.type())\n",
        "\n",
        "new_tensor = tensor.byte()\n",
        "print(new_tensor.type())\n",
        "\n",
        "# all ints\n",
        "new_tensor = tensor.long()\n",
        "print(new_tensor.type())\n",
        "\n",
        "new_tensor = tensor.int()\n",
        "print(new_tensor.type())\n",
        "\n",
        "new_tensor = tensor.short()\n",
        "print(new_tensor.type())\n",
        "\n",
        "new_tensor = tensor.char()\n",
        "print(new_tensor.type())"
      ],
      "metadata": {
        "colab": {
          "base_uri": "https://localhost:8080/"
        },
        "id": "H86ytMAZBSC3",
        "outputId": "b969f9fa-3505-4737-f975-9453e13f1dd7"
      },
      "execution_count": 16,
      "outputs": [
        {
          "output_type": "stream",
          "name": "stdout",
          "text": [
            "torch.HalfTensor\n",
            "torch.DoubleTensor\n",
            "torch.FloatTensor\n",
            "torch.HalfTensor\n",
            "torch.ByteTensor\n",
            "torch.LongTensor\n",
            "torch.IntTensor\n",
            "torch.ShortTensor\n",
            "torch.CharTensor\n"
          ]
        }
      ]
    },
    {
      "cell_type": "code",
      "source": [
        "tensor = torch.Tensor([1,2,3])\n"
      ],
      "metadata": {
        "id": "92EbND-EBSEY"
      },
      "execution_count": 17,
      "outputs": []
    },
    {
      "cell_type": "markdown",
      "source": [
        "# Array To Tensor Conversion"
      ],
      "metadata": {
        "id": "2KGpdVgwAHcy"
      }
    },
    {
      "cell_type": "code",
      "source": [
        "import numpy as np\n",
        "np_array = np.zeros((5,5))\n",
        "\n",
        "tensor = torch.from_numpy(np_array)\n",
        "print('Numpy to Tensor',type(tensor))\n",
        "\n",
        "np_array_back = tensor.numpy()\n",
        "print('Tensor to Numpy',type(np_array_back))\n",
        "\n"
      ],
      "metadata": {
        "colab": {
          "base_uri": "https://localhost:8080/"
        },
        "id": "-JeTOLy0-wpf",
        "outputId": "af1bed5c-fcf9-46ea-c30d-eb4e8e3bb51a"
      },
      "execution_count": 18,
      "outputs": [
        {
          "output_type": "stream",
          "name": "stdout",
          "text": [
            "Numpy to Tensor <class 'torch.Tensor'>\n",
            "Tensor to Numpy <class 'numpy.ndarray'>\n"
          ]
        }
      ]
    },
    {
      "cell_type": "markdown",
      "source": [
        "## Tensor Math & Comparison Operations"
      ],
      "metadata": {
        "id": "2abxFGt2BDYR"
      }
    },
    {
      "cell_type": "code",
      "source": [
        "import torch\n",
        "\n",
        "x = torch.tensor([1,2,3])\n",
        "y = torch.tensor([4,5,6])"
      ],
      "metadata": {
        "id": "xbXAOLzc-wu-"
      },
      "execution_count": 19,
      "outputs": []
    },
    {
      "cell_type": "code",
      "source": [
        "# Addition - 3 ways\n",
        "# (i) torch.ops(tensor1,tensor2,output = z)\n",
        "# (ii) z = torch.ops(tensor1,tensor2)\n",
        "# (iii) z = tensor1 + tensor2\n",
        "# (iv) z = tensor1.ops_(tensor2)\n",
        "\n",
        "\n",
        "\n",
        "# (i) using empty tensor\n",
        "z1 = torch.empty(3)\n",
        "torch.add(x,y,out=z1)\n",
        "print('z1',z1)\n",
        "\n",
        "# (ii) using .add\n",
        "z2 = torch.add(x,y)\n",
        "print('z2',z2)\n",
        "\n",
        "# (iii) using + operation\n",
        "z3 = x+y\n",
        "print('z3',z3)"
      ],
      "metadata": {
        "colab": {
          "base_uri": "https://localhost:8080/"
        },
        "id": "YAb5ovJS-wxD",
        "outputId": "07216bf3-88e1-43cb-d285-162d09aae07f"
      },
      "execution_count": 20,
      "outputs": [
        {
          "output_type": "stream",
          "name": "stdout",
          "text": [
            "z1 tensor([5., 7., 9.])\n",
            "z2 tensor([5, 7, 9])\n",
            "z3 tensor([5, 7, 9])\n"
          ]
        }
      ]
    },
    {
      "cell_type": "code",
      "source": [
        "# Subtraction\n",
        "z1=x-y\n",
        "print('z1',z1)"
      ],
      "metadata": {
        "colab": {
          "base_uri": "https://localhost:8080/"
        },
        "id": "8XleG6r0Fntd",
        "outputId": "51b2fd9e-ce13-4b9d-f272-6816c9ef207d"
      },
      "execution_count": 21,
      "outputs": [
        {
          "output_type": "stream",
          "name": "stdout",
          "text": [
            "z1 tensor([-3, -3, -3])\n"
          ]
        }
      ]
    },
    {
      "cell_type": "code",
      "source": [
        "# Division - true_divide does the element-wise division of matrices\n",
        "z = torch.true_divide(x,y)\n",
        "print('z',z)"
      ],
      "metadata": {
        "colab": {
          "base_uri": "https://localhost:8080/"
        },
        "id": "62UAxJCK-imt",
        "outputId": "a5a37da7-a5f9-4260-e733-a7cfd2e455d3"
      },
      "execution_count": 22,
      "outputs": [
        {
          "output_type": "stream",
          "name": "stdout",
          "text": [
            "z tensor([0.2500, 0.4000, 0.5000])\n"
          ]
        }
      ]
    },
    {
      "cell_type": "code",
      "source": [
        "# Exponentiation - pow does elementwise exponentiation\n",
        "z = x.pow(2)\n",
        "print('z',z)\n",
        "z = x**2\n",
        "print('z',z)"
      ],
      "metadata": {
        "colab": {
          "base_uri": "https://localhost:8080/"
        },
        "id": "YzV8WjqM-inh",
        "outputId": "43a8879d-8138-423f-8de3-b0bdce567d1c"
      },
      "execution_count": 23,
      "outputs": [
        {
          "output_type": "stream",
          "name": "stdout",
          "text": [
            "z tensor([1, 4, 9])\n",
            "z tensor([1, 4, 9])\n"
          ]
        }
      ]
    },
    {
      "cell_type": "code",
      "source": [
        "# inplace operations\n",
        "t = torch.zeros(3)\n",
        "\n",
        "# (i) tensor1.ops_(tensor2) Add underscore \"_\" after the operation name\n",
        "t.add_(x)\n",
        "print(t)\n",
        "\n",
        "# (ii)\n",
        "t+=x\n",
        "print(t)"
      ],
      "metadata": {
        "colab": {
          "base_uri": "https://localhost:8080/"
        },
        "id": "d5zTlt2LGTC4",
        "outputId": "66a1fe8a-f5ea-40e0-9730-a75e520d26cf"
      },
      "execution_count": 24,
      "outputs": [
        {
          "output_type": "stream",
          "name": "stdout",
          "text": [
            "tensor([1., 2., 3.])\n",
            "tensor([2., 4., 6.])\n"
          ]
        }
      ]
    },
    {
      "cell_type": "code",
      "source": [
        "# simple comparison\n",
        "z = x>0\n",
        "print('z',z)\n",
        "\n",
        "z = x<0\n",
        "print('z',z)"
      ],
      "metadata": {
        "colab": {
          "base_uri": "https://localhost:8080/"
        },
        "id": "XEQJpvaj-itc",
        "outputId": "507df786-c3b8-4299-e822-ca8691618bb8"
      },
      "execution_count": 25,
      "outputs": [
        {
          "output_type": "stream",
          "name": "stdout",
          "text": [
            "z tensor([True, True, True])\n",
            "z tensor([False, False, False])\n"
          ]
        }
      ]
    },
    {
      "cell_type": "markdown",
      "source": [
        "## Matrix Operations"
      ],
      "metadata": {
        "id": "UT_4icTruvSm"
      }
    },
    {
      "cell_type": "code",
      "source": [
        "# Matrix Multiplication\n",
        "x1 = torch.rand((2,5))\n",
        "x2 = torch.rand((5,3))\n",
        "\n",
        "# (i) .mm\n",
        "x3 = torch.mm(x1,x2)\n",
        "print('x3',x3)\n",
        "\n",
        "# (ii)\n",
        "x3 = x1.mm(x2)\n",
        "print('x3',x3)\n"
      ],
      "metadata": {
        "colab": {
          "base_uri": "https://localhost:8080/"
        },
        "id": "ZcoaKG0N-iui",
        "outputId": "163b9673-4301-47c6-aaa4-8eb1748ae4b0"
      },
      "execution_count": 26,
      "outputs": [
        {
          "output_type": "stream",
          "name": "stdout",
          "text": [
            "x3 tensor([[1.5211, 1.6282, 1.1711],\n",
            "        [1.3177, 1.1116, 0.6979]])\n",
            "x3 tensor([[1.5211, 1.6282, 1.1711],\n",
            "        [1.3177, 1.1116, 0.6979]])\n"
          ]
        }
      ]
    },
    {
      "cell_type": "code",
      "source": [
        "# element wise multiplication\n",
        "x = torch.ones(3,3)*3\n",
        "y = torch.ones(3,3)*2\n",
        "print(x,y)\n",
        "\n",
        "z = x*y\n",
        "print('z',z)"
      ],
      "metadata": {
        "id": "xvUlZX-fF-AT",
        "colab": {
          "base_uri": "https://localhost:8080/"
        },
        "outputId": "4aebf7e4-eef8-4907-d6ef-f92eef4e3177"
      },
      "execution_count": 27,
      "outputs": [
        {
          "output_type": "stream",
          "name": "stdout",
          "text": [
            "tensor([[3., 3., 3.],\n",
            "        [3., 3., 3.],\n",
            "        [3., 3., 3.]]) tensor([[2., 2., 2.],\n",
            "        [2., 2., 2.],\n",
            "        [2., 2., 2.]])\n",
            "z tensor([[6., 6., 6.],\n",
            "        [6., 6., 6.],\n",
            "        [6., 6., 6.]])\n"
          ]
        }
      ]
    },
    {
      "cell_type": "markdown",
      "source": [
        "## Broadcasting\n",
        "While operating on two different matrices, the matrix with lower dimension is broadcasted to the one with higher dimension.\n",
        "* eg. (1,5) x2 is broadcasted to (5,5) in x1."
      ],
      "metadata": {
        "id": "OaYgoXKlwEOV"
      }
    },
    {
      "cell_type": "code",
      "source": [
        "# ROW Broadcasting\n",
        "x1 = torch.ones((5,5))*3\n",
        "x2 = torch.ones((1,5))*2\n",
        "\n",
        "print(x1)\n",
        "print(x2)\n",
        "\n",
        "z = x1-x2\n",
        "print(z)\n",
        "z = x1**x2\n",
        "print(z)"
      ],
      "metadata": {
        "id": "_1sbkEBxw-gN",
        "colab": {
          "base_uri": "https://localhost:8080/"
        },
        "outputId": "31d24e60-3559-451d-a2ba-3ace39449c52"
      },
      "execution_count": 28,
      "outputs": [
        {
          "output_type": "stream",
          "name": "stdout",
          "text": [
            "tensor([[3., 3., 3., 3., 3.],\n",
            "        [3., 3., 3., 3., 3.],\n",
            "        [3., 3., 3., 3., 3.],\n",
            "        [3., 3., 3., 3., 3.],\n",
            "        [3., 3., 3., 3., 3.]])\n",
            "tensor([[2., 2., 2., 2., 2.]])\n",
            "tensor([[1., 1., 1., 1., 1.],\n",
            "        [1., 1., 1., 1., 1.],\n",
            "        [1., 1., 1., 1., 1.],\n",
            "        [1., 1., 1., 1., 1.],\n",
            "        [1., 1., 1., 1., 1.]])\n",
            "tensor([[9., 9., 9., 9., 9.],\n",
            "        [9., 9., 9., 9., 9.],\n",
            "        [9., 9., 9., 9., 9.],\n",
            "        [9., 9., 9., 9., 9.],\n",
            "        [9., 9., 9., 9., 9.]])\n"
          ]
        }
      ]
    },
    {
      "cell_type": "code",
      "source": [
        "# COLUMN Broadcasting\n",
        "x1 = torch.ones((5,5))*3\n",
        "x2 = torch.ones((5,1))*2\n",
        "\n",
        "print(x1)\n",
        "print(x2)\n",
        "\n",
        "z = x1-x2\n",
        "print(z)\n",
        "z = x1**x2\n",
        "print(z)"
      ],
      "metadata": {
        "colab": {
          "base_uri": "https://localhost:8080/"
        },
        "id": "KvnlqGzjGMdg",
        "outputId": "28d69778-4ce1-444b-9a79-e393e4752137"
      },
      "execution_count": 29,
      "outputs": [
        {
          "output_type": "stream",
          "name": "stdout",
          "text": [
            "tensor([[3., 3., 3., 3., 3.],\n",
            "        [3., 3., 3., 3., 3.],\n",
            "        [3., 3., 3., 3., 3.],\n",
            "        [3., 3., 3., 3., 3.],\n",
            "        [3., 3., 3., 3., 3.]])\n",
            "tensor([[2.],\n",
            "        [2.],\n",
            "        [2.],\n",
            "        [2.],\n",
            "        [2.]])\n",
            "tensor([[1., 1., 1., 1., 1.],\n",
            "        [1., 1., 1., 1., 1.],\n",
            "        [1., 1., 1., 1., 1.],\n",
            "        [1., 1., 1., 1., 1.],\n",
            "        [1., 1., 1., 1., 1.]])\n",
            "tensor([[9., 9., 9., 9., 9.],\n",
            "        [9., 9., 9., 9., 9.],\n",
            "        [9., 9., 9., 9., 9.],\n",
            "        [9., 9., 9., 9., 9.],\n",
            "        [9., 9., 9., 9., 9.]])\n"
          ]
        }
      ]
    },
    {
      "cell_type": "markdown",
      "source": [
        "## Other useful tensor operations"
      ],
      "metadata": {
        "id": "tFFLN1Rnx9Ee"
      }
    },
    {
      "cell_type": "code",
      "source": [
        "x = torch.tensor([-1,2,3,4])\n",
        "\n",
        "# sum of all elements\n",
        "sum_x = torch.sum(x,dim=0)\n",
        "print('sum_x',sum_x)"
      ],
      "metadata": {
        "colab": {
          "base_uri": "https://localhost:8080/"
        },
        "id": "QavCbwvGv7yV",
        "outputId": "2e50e53b-5f20-4d30-aa36-9b0b5fcd68df"
      },
      "execution_count": 30,
      "outputs": [
        {
          "output_type": "stream",
          "name": "stdout",
          "text": [
            "sum_x tensor(8)\n"
          ]
        }
      ]
    },
    {
      "cell_type": "code",
      "source": [
        "# max-min values and their indices\n",
        "\n",
        "values,indices = torch.max(x,dim=0)\n",
        "print('values,indices',values,indices)\n",
        "\n",
        "values,indices = torch.min(x,dim=0)\n",
        "print('values,indices',values,indices)\n"
      ],
      "metadata": {
        "colab": {
          "base_uri": "https://localhost:8080/"
        },
        "id": "GvMYW7RFyPvF",
        "outputId": "a1e66001-1336-4925-a6ab-d7bd0b227c33"
      },
      "execution_count": 31,
      "outputs": [
        {
          "output_type": "stream",
          "name": "stdout",
          "text": [
            "values,indices tensor(4) tensor(3)\n",
            "values,indices tensor(-1) tensor(0)\n"
          ]
        }
      ]
    },
    {
      "cell_type": "code",
      "source": [
        "# absolute values\n",
        "abs_x = torch.abs(x)\n",
        "print('abs_x',abs_x)"
      ],
      "metadata": {
        "colab": {
          "base_uri": "https://localhost:8080/"
        },
        "id": "hlID5r48yo6P",
        "outputId": "3c4a2d88-46d7-4f03-9870-4ac41e4f7143"
      },
      "execution_count": 32,
      "outputs": [
        {
          "output_type": "stream",
          "name": "stdout",
          "text": [
            "abs_x tensor([1, 2, 3, 4])\n"
          ]
        }
      ]
    },
    {
      "cell_type": "code",
      "source": [
        "# index with maximum value\n",
        "z = torch.argmax(x,dim=0)\n",
        "print('z',z)\n",
        "\n",
        "# index with minimum value\n",
        "z = torch.argmin(x,dim=0)\n",
        "print('z',z)"
      ],
      "metadata": {
        "colab": {
          "base_uri": "https://localhost:8080/"
        },
        "id": "RyHvkO2Jy9i1",
        "outputId": "db933793-effa-42b7-c87e-8c47e4d2fc49"
      },
      "execution_count": 33,
      "outputs": [
        {
          "output_type": "stream",
          "name": "stdout",
          "text": [
            "z tensor(3)\n",
            "z tensor(0)\n"
          ]
        }
      ]
    },
    {
      "cell_type": "code",
      "source": [
        "# mean of elements\n",
        "mean_x = torch.mean(x.float(),dim=0)\n",
        "mean_x"
      ],
      "metadata": {
        "colab": {
          "base_uri": "https://localhost:8080/"
        },
        "id": "wH7HWVz-zEeb",
        "outputId": "0182054e-4c6c-437f-f136-a8213614464f"
      },
      "execution_count": 34,
      "outputs": [
        {
          "output_type": "execute_result",
          "data": {
            "text/plain": [
              "tensor(2.)"
            ]
          },
          "metadata": {},
          "execution_count": 34
        }
      ]
    },
    {
      "cell_type": "code",
      "source": [
        "# check if two tensors are equal element-wise\n",
        "\n",
        "x= torch.tensor([1,2,3])\n",
        "y= torch.tensor([1,2,4])\n",
        "\n",
        "z = torch.eq(x,y)\n",
        "print(z)\n",
        "\n"
      ],
      "metadata": {
        "colab": {
          "base_uri": "https://localhost:8080/"
        },
        "id": "XpZ7KJio0NKu",
        "outputId": "3d319ab8-fb4e-41d2-ba18-577e6bb85697"
      },
      "execution_count": 35,
      "outputs": [
        {
          "output_type": "stream",
          "name": "stdout",
          "text": [
            "tensor([ True,  True, False])\n"
          ]
        }
      ]
    },
    {
      "cell_type": "code",
      "source": [
        "\n",
        "# sorting array\n",
        "\n",
        "torch.sort(y,dim=0,descending=False)\n"
      ],
      "metadata": {
        "colab": {
          "base_uri": "https://localhost:8080/"
        },
        "id": "kHIbnsW90Z9s",
        "outputId": "99c935ea-df60-4117-9fcc-68e170b61031"
      },
      "execution_count": 36,
      "outputs": [
        {
          "output_type": "execute_result",
          "data": {
            "text/plain": [
              "torch.return_types.sort(\n",
              "values=tensor([1, 2, 4]),\n",
              "indices=tensor([0, 1, 2]))"
            ]
          },
          "metadata": {},
          "execution_count": 36
        }
      ]
    },
    {
      "cell_type": "code",
      "source": [
        "# clamping tensor based on min and max values. All values less than min value would become the min value and\n",
        "# all values greater than max value would become the max value.\n",
        "x = torch.tensor([[-1,-2,3,4],[5,6,11,13]])\n",
        "print('x',x)\n",
        "\n",
        "z = torch.clamp(x,min=0,max=10)\n",
        "print('z',z)\n",
        "\n",
        "# Note that torch.clamp(x,min=0) becomes a relu function\n"
      ],
      "metadata": {
        "colab": {
          "base_uri": "https://localhost:8080/"
        },
        "id": "J2Vd7awK0pbp",
        "outputId": "d9d1375e-7856-44b3-88c2-4c80a36f611e"
      },
      "execution_count": 37,
      "outputs": [
        {
          "output_type": "stream",
          "name": "stdout",
          "text": [
            "x tensor([[-1, -2,  3,  4],\n",
            "        [ 5,  6, 11, 13]])\n",
            "z tensor([[ 0,  0,  3,  4],\n",
            "        [ 5,  6, 10, 10]])\n"
          ]
        }
      ]
    },
    {
      "cell_type": "code",
      "source": [
        "x = torch.tensor( [1,0,1,1,1] , dtype = torch.bool )\n",
        "z = torch.any(x)\n",
        "print('z',z)\n",
        "z = torch.all(x)\n",
        "print('z',z)"
      ],
      "metadata": {
        "colab": {
          "base_uri": "https://localhost:8080/"
        },
        "id": "WfIubqP10-sW",
        "outputId": "2e65de7c-c0bf-4bce-aebf-1fb794cfd479"
      },
      "execution_count": 38,
      "outputs": [
        {
          "output_type": "stream",
          "name": "stdout",
          "text": [
            "z tensor(True)\n",
            "z tensor(False)\n"
          ]
        }
      ]
    },
    {
      "cell_type": "markdown",
      "source": [
        "## Tensor Indexing"
      ],
      "metadata": {
        "id": "IwZBy8s_ImP5"
      }
    },
    {
      "cell_type": "code",
      "source": [
        "batch_size = 10\n",
        "features = 25\n",
        "x = torch.rand((batch_size,features))\n",
        "\n",
        "print(x.shape)\n",
        "\n",
        "# first example\n",
        "print(x[0].shape)\n",
        "\n",
        "# first feature of all example\n",
        "print(x[:,0].shape)\n",
        "\n",
        "print(x[2,0:10])\n"
      ],
      "metadata": {
        "colab": {
          "base_uri": "https://localhost:8080/"
        },
        "id": "X0INbevaHqoU",
        "outputId": "2328da9f-911d-4b74-9887-60c9794d2cdf"
      },
      "execution_count": 39,
      "outputs": [
        {
          "output_type": "stream",
          "name": "stdout",
          "text": [
            "torch.Size([10, 25])\n",
            "torch.Size([25])\n",
            "torch.Size([10])\n",
            "tensor([0.4019, 0.0427, 0.7019, 0.8180, 0.1845, 0.2398, 0.5637, 0.6903, 0.4577,\n",
            "        0.4057])\n"
          ]
        }
      ]
    },
    {
      "cell_type": "code",
      "source": [
        "# fancy indexing\n",
        "# [i]\n",
        "x = torch.arange(10,20)\n",
        "print(x)\n",
        "indices = [2,5,8]\n",
        "print(x[indices])\n",
        "\n",
        "# [ii]\n",
        "x = torch.rand((3,5))\n",
        "print(x)\n",
        "rows = torch.tensor([1,0])\n",
        "cols = torch.tensor([4,0])\n",
        "print(rows,cols)\n",
        "print(x[rows,cols])\n",
        "print(x[rows,cols].shape)\n"
      ],
      "metadata": {
        "colab": {
          "base_uri": "https://localhost:8080/"
        },
        "id": "7F_zwP5tiM22",
        "outputId": "835e09e0-3f02-4e76-b68d-0f2f10f32399"
      },
      "execution_count": 40,
      "outputs": [
        {
          "output_type": "stream",
          "name": "stdout",
          "text": [
            "tensor([10, 11, 12, 13, 14, 15, 16, 17, 18, 19])\n",
            "tensor([12, 15, 18])\n",
            "tensor([[0.3056, 0.8314, 0.0157, 0.2082, 0.9983],\n",
            "        [0.1246, 0.3140, 0.4542, 0.3576, 0.2202],\n",
            "        [0.6050, 0.1346, 0.3724, 0.5460, 0.6028]])\n",
            "tensor([1, 0]) tensor([4, 0])\n",
            "tensor([0.2202, 0.3056])\n",
            "torch.Size([2])\n"
          ]
        }
      ]
    },
    {
      "cell_type": "code",
      "source": [
        "# More advanced indexing\n",
        "x = torch.arange(10)\n",
        "print(x[ (x<2) | (x>8) ])\n",
        "\n",
        "x = torch.arange(10)\n",
        "print(x[ (x>2) & (x<8) ])\n",
        "\n",
        "print(x[x.remainder(2)==0])"
      ],
      "metadata": {
        "colab": {
          "base_uri": "https://localhost:8080/"
        },
        "id": "WrRFsMXythsa",
        "outputId": "55930a6f-8ad7-41f3-cf87-7e00ef24012e"
      },
      "execution_count": 41,
      "outputs": [
        {
          "output_type": "stream",
          "name": "stdout",
          "text": [
            "tensor([0, 1, 9])\n",
            "tensor([3, 4, 5, 6, 7])\n",
            "tensor([0, 2, 4, 6, 8])\n"
          ]
        }
      ]
    },
    {
      "cell_type": "code",
      "source": [
        "torch.where(x>5,x,x*2) # if x>5; print(x) else print(x*2)"
      ],
      "metadata": {
        "colab": {
          "base_uri": "https://localhost:8080/"
        },
        "id": "Hf_kQON1uG4a",
        "outputId": "8acf96b6-4e2b-465b-b359-e486ea83de98"
      },
      "execution_count": 42,
      "outputs": [
        {
          "output_type": "execute_result",
          "data": {
            "text/plain": [
              "tensor([ 0,  2,  4,  6,  8, 10,  6,  7,  8,  9])"
            ]
          },
          "metadata": {},
          "execution_count": 42
        }
      ]
    },
    {
      "cell_type": "markdown",
      "source": [
        "## Tensor Reshaping"
      ],
      "metadata": {
        "id": "BxeqGRzVy0fq"
      }
    },
    {
      "cell_type": "code",
      "source": [
        "x = torch.arange(9)\n",
        "print('x',x)"
      ],
      "metadata": {
        "colab": {
          "base_uri": "https://localhost:8080/"
        },
        "id": "SRJbK8Yav0Jc",
        "outputId": "3d3203c2-429a-4fa6-d8ed-177a98394d02"
      },
      "execution_count": 43,
      "outputs": [
        {
          "output_type": "stream",
          "name": "stdout",
          "text": [
            "x tensor([0, 1, 2, 3, 4, 5, 6, 7, 8])\n"
          ]
        }
      ]
    },
    {
      "cell_type": "code",
      "source": [
        "# converting it into 3x3 matrix\n",
        "x_3x3 = x.view(3,3)\n",
        "print(x_3x3)"
      ],
      "metadata": {
        "colab": {
          "base_uri": "https://localhost:8080/"
        },
        "id": "p5-mGvLuzZsP",
        "outputId": "8d9bdec2-1a7e-4716-f12f-1d08175776e5"
      },
      "execution_count": 44,
      "outputs": [
        {
          "output_type": "stream",
          "name": "stdout",
          "text": [
            "tensor([[0, 1, 2],\n",
            "        [3, 4, 5],\n",
            "        [6, 7, 8]])\n"
          ]
        }
      ]
    },
    {
      "cell_type": "code",
      "source": [
        "x_3x3 = x.reshape(3,3)\n",
        "print(x_3x3)"
      ],
      "metadata": {
        "colab": {
          "base_uri": "https://localhost:8080/"
        },
        "id": "rBl5l9-Fzhqu",
        "outputId": "db6ad5bb-51a0-4ac4-b5d1-8097063b4107"
      },
      "execution_count": 45,
      "outputs": [
        {
          "output_type": "stream",
          "name": "stdout",
          "text": [
            "tensor([[0, 1, 2],\n",
            "        [3, 4, 5],\n",
            "        [6, 7, 8]])\n"
          ]
        }
      ]
    },
    {
      "cell_type": "code",
      "source": [
        "# view vs reshape.\n",
        "'''\n",
        "view needs the data to be contiguous. for eg. if we have\n",
        "x = torch.arange(9) i.e. x = tensor([0, 1, 2, 3, 4, 5, 6, 7, 8])\n",
        "\n",
        "x_3x3 will show the numbers in matrix form but the data would be contiguous.\n",
        "Thus y=x_3x3.T will transform the matrix which will change the way data is stored\n",
        "i.e. [0,3,6,1,4,7,2,5,8] instead of [0,1,2,3,4,5,6,7,8]\n",
        "Then, y.view(9) will throw error.\n",
        "Reshape works fine for non-contiguous data.\n",
        "'''\n",
        "x = torch.arange(9)\n",
        "x_3x3 = x.view(3,3)\n",
        "y = x_3x3.T\n",
        "# y.view(9)  # y.reshape(9) works for reshaping or y.contiguous().view(9)"
      ],
      "metadata": {
        "id": "pTBFSInTzj9S"
      },
      "execution_count": 47,
      "outputs": []
    },
    {
      "cell_type": "code",
      "source": [
        "#######################################################\n",
        "# contiguous vs non-contiguous Tensors\n",
        "#######################################################\n",
        "# is_contiguous() method to check if a tensor is contiguous or not\n",
        "# stride() returns the #jumps required to reach new row and new column eg. (3,1) represents 3 jumps for new row and 1 jump for new column\n",
        "# tensor.contiguous() returns itself if contiguoug or copies the data and makes them contiguous\n",
        "\n",
        "tensor = torch.arange(12).reshape(4,3)\n",
        "print(tensor)\n",
        "print(tensor.is_contiguous())\n",
        "print(tensor.contiguous())\n",
        "print(tensor.stride())\n",
        "\n",
        "tensor = tensor.T\n",
        "print(tensor)\n",
        "print(tensor.is_contiguous())\n",
        "print(tensor.stride()) # incorrect\n",
        "tensor = tensor.contiguous()\n",
        "print(tensor.is_contiguous())\n",
        "print(tensor.stride()) # correct\n"
      ],
      "metadata": {
        "colab": {
          "base_uri": "https://localhost:8080/"
        },
        "id": "Jp-s99fp9SbL",
        "outputId": "da6e1621-9265-4813-caf7-64ae503f52a9"
      },
      "execution_count": 48,
      "outputs": [
        {
          "output_type": "stream",
          "name": "stdout",
          "text": [
            "tensor([[ 0,  1,  2],\n",
            "        [ 3,  4,  5],\n",
            "        [ 6,  7,  8],\n",
            "        [ 9, 10, 11]])\n",
            "True\n",
            "tensor([[ 0,  1,  2],\n",
            "        [ 3,  4,  5],\n",
            "        [ 6,  7,  8],\n",
            "        [ 9, 10, 11]])\n",
            "(3, 1)\n",
            "tensor([[ 0,  3,  6,  9],\n",
            "        [ 1,  4,  7, 10],\n",
            "        [ 2,  5,  8, 11]])\n",
            "False\n",
            "(1, 3)\n",
            "True\n",
            "(4, 1)\n"
          ]
        }
      ]
    },
    {
      "cell_type": "code",
      "source": [
        "# concatenation\n",
        "x1 = torch.rand((32,3,64,64))\n",
        "x2 = torch.rand((32,3,64,64))\n",
        "print( torch.cat((x1,x2),dim=0).shape )\n",
        "print( torch.cat((x1,x2),dim=1).shape )"
      ],
      "metadata": {
        "colab": {
          "base_uri": "https://localhost:8080/"
        },
        "id": "ae1pHdwC2GXY",
        "outputId": "6327be85-a7f1-414a-9a14-0266f6d98fd6"
      },
      "execution_count": 49,
      "outputs": [
        {
          "output_type": "stream",
          "name": "stdout",
          "text": [
            "torch.Size([64, 3, 64, 64])\n",
            "torch.Size([32, 6, 64, 64])\n"
          ]
        }
      ]
    },
    {
      "cell_type": "code",
      "source": [
        "# flatten keeping batchsize\n",
        "batch=64\n",
        "x = torch.rand((batch,2,5))\n",
        "z = x.view(batch,-1)\n",
        "print(z.shape)"
      ],
      "metadata": {
        "colab": {
          "base_uri": "https://localhost:8080/"
        },
        "id": "8xwQsRDV2shs",
        "outputId": "458fa390-d0cf-4e39-87c5-e069a352bbd9"
      },
      "execution_count": 50,
      "outputs": [
        {
          "output_type": "stream",
          "name": "stdout",
          "text": [
            "torch.Size([64, 10])\n"
          ]
        }
      ]
    },
    {
      "cell_type": "code",
      "source": [
        "# suppose want to tanspose the matrix keeping the batch size\n",
        "# i.e. (64,2,5) should become (64,5,2)\n",
        "# x.permute(0,2,1) i.e. 0th dim will be at 0th dim ; 2nd dim will be at 1st dim and 1st dim will be at 2nd dim\n",
        "z = x.permute(0,2,1)\n",
        "print(z.shape)"
      ],
      "metadata": {
        "colab": {
          "base_uri": "https://localhost:8080/"
        },
        "id": "3iuqiLGh2_Wm",
        "outputId": "6b19a676-26fd-4233-ffde-9ebdfa6a4f5a"
      },
      "execution_count": 51,
      "outputs": [
        {
          "output_type": "stream",
          "name": "stdout",
          "text": [
            "torch.Size([64, 5, 2])\n"
          ]
        }
      ]
    },
    {
      "cell_type": "code",
      "source": [
        "###############################\n",
        "# squeeze vs unsqueeze  -  remove/add dimension\n",
        "###############################\n",
        "# works with only 1 as a dimension.\n",
        "\n",
        "# add dimensionality\n",
        "x = torch.arange(10) # already dim of 10\n",
        "print(x,x.shape)\n",
        "z1 = x.unsqueeze(0) # adding dim as 1,10\n",
        "print(z1,z1.shape)\n",
        "z2 = x.unsqueeze(1) # adding dim as 10,1\n",
        "print(z2,z2.shape)\n",
        "\n",
        "\n",
        "# remove dimensionality\n",
        "x = torch.rand(1,1,6)\n",
        "print(x)\n",
        "x = x.squeeze(0)\n",
        "print(x.shape)\n",
        "\n",
        "new_x = x.squeeze(1)\n",
        "print(new_x.shape)\n",
        "\n",
        "\n",
        "x = torch.rand(2,1,6)\n",
        "x = x.squeeze(0)   # doesnt work with non-one index\n",
        "print(x.shape)\n",
        "\n",
        "x = x.squeeze(1)\n",
        "print(x.shape)\n",
        "\n"
      ],
      "metadata": {
        "colab": {
          "base_uri": "https://localhost:8080/"
        },
        "id": "AJOOi3AI3ksr",
        "outputId": "6f3d7d60-7571-4750-9345-ede0701bded7"
      },
      "execution_count": 52,
      "outputs": [
        {
          "output_type": "stream",
          "name": "stdout",
          "text": [
            "tensor([0, 1, 2, 3, 4, 5, 6, 7, 8, 9]) torch.Size([10])\n",
            "tensor([[0, 1, 2, 3, 4, 5, 6, 7, 8, 9]]) torch.Size([1, 10])\n",
            "tensor([[0],\n",
            "        [1],\n",
            "        [2],\n",
            "        [3],\n",
            "        [4],\n",
            "        [5],\n",
            "        [6],\n",
            "        [7],\n",
            "        [8],\n",
            "        [9]]) torch.Size([10, 1])\n",
            "tensor([[[0.5510, 0.1363, 0.6539, 0.2307, 0.2805, 0.3109]]])\n",
            "torch.Size([1, 6])\n",
            "torch.Size([1, 6])\n",
            "torch.Size([2, 1, 6])\n",
            "torch.Size([2, 6])\n"
          ]
        }
      ]
    },
    {
      "cell_type": "code",
      "source": [
        "\n",
        "'''\n",
        "Numpy to torch and vice versa can only be done on CPU. Here, we will shift tensors to GPU, where all the matrix multiplication\n",
        "operations are much faster. Then, while converting the tensor, python will throw an error which can be resolved by shifting\n",
        "the tensor on cpu first.\n",
        "'''\n",
        "if torch.cuda.is_available():\n",
        "  device = torch.device(\"cuda\")\n",
        "  x = torch.ones(5,device = device)   # tensor x on GPU\n",
        "  y = torch.ones(5)\n",
        "  y = y.to(device)  # tensor y on GPU\n",
        "  z = x + y\n",
        "  print(z)\n",
        "  try:\n",
        "    z = np.array(z)\n",
        "  except:\n",
        "    print('ERROR: Cant Convert torch to numpy or vice-versa on gpu. First get tensors on cpu ')\n",
        "  z = z.to(\"cpu\")\n",
        "  z = np.array(z)\n",
        "  print(z)"
      ],
      "metadata": {
        "id": "fBklm8jW4b8I",
        "colab": {
          "base_uri": "https://localhost:8080/"
        },
        "outputId": "3274a24a-e0f1-40ef-ac34-8ec44d16d44b"
      },
      "execution_count": 53,
      "outputs": [
        {
          "output_type": "stream",
          "name": "stdout",
          "text": [
            "tensor([2., 2., 2., 2., 2.], device='cuda:0')\n",
            "ERROR: Cant Convert torch to numpy or vice-versa on gpu. First get tensors on cpu \n",
            "[2. 2. 2. 2. 2.]\n"
          ]
        }
      ]
    },
    {
      "cell_type": "code",
      "source": [
        "# complete"
      ],
      "metadata": {
        "id": "iqIwiXyS5IlZ"
      },
      "execution_count": null,
      "outputs": []
    },
    {
      "cell_type": "code",
      "source": [],
      "metadata": {
        "id": "96sluANr5I5k"
      },
      "execution_count": null,
      "outputs": []
    }
  ]
}