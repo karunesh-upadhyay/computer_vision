{
  "nbformat": 4,
  "nbformat_minor": 0,
  "metadata": {
    "colab": {
      "provenance": []
    },
    "kernelspec": {
      "name": "python3",
      "display_name": "Python 3"
    },
    "language_info": {
      "name": "python"
    }
  },
  "cells": [
    {
      "cell_type": "markdown",
      "source": [
        "# Definition of Tensor:\n",
        "* A PyTorch Tensor is basically the same as a numpy array\n",
        "* It does not know anything about deep learning or computational graphs or gradients, and is just a generic n-dimensional array to be used for arbitrary numeric computation.\n",
        "* Pytorch uses Tensor to encode inputs, outputs and model's parameters.\n",
        "\n",
        "### Tensors vs np Arrays:\n",
        "* similar except that tensors can run on GPUs. Both can share same underlying memory.\n",
        "* Another diff is that Tensors are optimised for automatic differentiation.\n"
      ],
      "metadata": {
        "id": "c5wRNtmXMn79"
      }
    },
    {
      "cell_type": "markdown",
      "source": [
        "## Types of Tensor : Float and Int ( 2 Types in pytorch)\n",
        "### Precision\n",
        "\n",
        "\n",
        "1.   64-bit\n",
        "* Float: float64, double -> DoubleTensor\n",
        "* Int: int64, long -> LongTensor\n",
        "\n",
        "2.   32-bit\n",
        "* Float: float32, float -> FloatTensor\n",
        "* Int: int32, int -> IntTensor\n",
        "\n",
        "3.   16-bit\n",
        "* Float: float16, half -> HalfTensor\n",
        "* Int, int16, short -> ShortTensor\n",
        "\n",
        "4.   8-bit\n",
        "* Signed: int8 -> ByteTensor\n",
        "* Unsigned: uint8 -> CharTensor\n"
      ],
      "metadata": {
        "id": "_l4FmKCIZMRz"
      }
    },
    {
      "cell_type": "markdown",
      "source": [
        "# Tensor Initialisation\n",
        "### Initialising tensor would require 3 declarations:\n",
        "1. dtype\n",
        "\n",
        "2. device\n",
        "\n",
        "3. requires_grad"
      ],
      "metadata": {
        "id": "4MPIhroYEOI_"
      }
    },
    {
      "cell_type": "code",
      "execution_count": 1,
      "metadata": {
        "id": "pEjCXcPpDleZ"
      },
      "outputs": [],
      "source": [
        "import torch\n",
        "import numpy as np"
      ]
    },
    {
      "cell_type": "code",
      "source": [
        "# [1] dtype\n",
        "# torch.float32, torch.float16 etc\n",
        "\n",
        "# [2] device\n",
        "device = \"cuda\" if torch.cuda.is_available() else \"cpu\"\n",
        "\n",
        "# [3] requires_grad = True/False\n",
        "\n",
        "my_tensor = torch.tensor([[1,2,3],[4,5,6]], \\\n",
        "                         dtype = torch.float32, \\\n",
        "                         device = 'cuda' ,\\\n",
        "                         requires_grad = True)\n",
        "print(my_tensor)"
      ],
      "metadata": {
        "colab": {
          "base_uri": "https://localhost:8080/",
          "height": 366
        },
        "id": "8F6aky_tEJQd",
        "outputId": "415aef19-c86f-42d1-9695-8f89b7aa565b"
      },
      "execution_count": 2,
      "outputs": [
        {
          "output_type": "error",
          "ename": "RuntimeError",
          "evalue": "ignored",
          "traceback": [
            "\u001b[0;31m---------------------------------------------------------------------------\u001b[0m",
            "\u001b[0;31mRuntimeError\u001b[0m                              Traceback (most recent call last)",
            "\u001b[0;32m<ipython-input-2-e3aa1c62fda1>\u001b[0m in \u001b[0;36m<cell line: 9>\u001b[0;34m()\u001b[0m\n\u001b[1;32m      7\u001b[0m \u001b[0;31m# [3] requires_grad = True/False\u001b[0m\u001b[0;34m\u001b[0m\u001b[0;34m\u001b[0m\u001b[0m\n\u001b[1;32m      8\u001b[0m \u001b[0;34m\u001b[0m\u001b[0m\n\u001b[0;32m----> 9\u001b[0;31m my_tensor = torch.tensor([[1,2,3],[4,5,6]], \\\n\u001b[0m\u001b[1;32m     10\u001b[0m                          \u001b[0mdtype\u001b[0m \u001b[0;34m=\u001b[0m \u001b[0mtorch\u001b[0m\u001b[0;34m.\u001b[0m\u001b[0mfloat32\u001b[0m\u001b[0;34m,\u001b[0m\u001b[0;31m \u001b[0m\u001b[0;31m\\\u001b[0m\u001b[0;34m\u001b[0m\u001b[0;34m\u001b[0m\u001b[0m\n\u001b[1;32m     11\u001b[0m                          \u001b[0mdevice\u001b[0m \u001b[0;34m=\u001b[0m \u001b[0;34m'cuda'\u001b[0m \u001b[0;34m,\u001b[0m\u001b[0;31m\\\u001b[0m\u001b[0;34m\u001b[0m\u001b[0;34m\u001b[0m\u001b[0m\n",
            "\u001b[0;32m/usr/local/lib/python3.10/dist-packages/torch/cuda/__init__.py\u001b[0m in \u001b[0;36m_lazy_init\u001b[0;34m()\u001b[0m\n\u001b[1;32m    245\u001b[0m         \u001b[0;32mif\u001b[0m \u001b[0;34m'CUDA_MODULE_LOADING'\u001b[0m \u001b[0;32mnot\u001b[0m \u001b[0;32min\u001b[0m \u001b[0mos\u001b[0m\u001b[0;34m.\u001b[0m\u001b[0menviron\u001b[0m\u001b[0;34m:\u001b[0m\u001b[0;34m\u001b[0m\u001b[0;34m\u001b[0m\u001b[0m\n\u001b[1;32m    246\u001b[0m             \u001b[0mos\u001b[0m\u001b[0;34m.\u001b[0m\u001b[0menviron\u001b[0m\u001b[0;34m[\u001b[0m\u001b[0;34m'CUDA_MODULE_LOADING'\u001b[0m\u001b[0;34m]\u001b[0m \u001b[0;34m=\u001b[0m \u001b[0;34m'LAZY'\u001b[0m\u001b[0;34m\u001b[0m\u001b[0;34m\u001b[0m\u001b[0m\n\u001b[0;32m--> 247\u001b[0;31m         \u001b[0mtorch\u001b[0m\u001b[0;34m.\u001b[0m\u001b[0m_C\u001b[0m\u001b[0;34m.\u001b[0m\u001b[0m_cuda_init\u001b[0m\u001b[0;34m(\u001b[0m\u001b[0;34m)\u001b[0m\u001b[0;34m\u001b[0m\u001b[0;34m\u001b[0m\u001b[0m\n\u001b[0m\u001b[1;32m    248\u001b[0m         \u001b[0;31m# Some of the queued calls may reentrantly call _lazy_init();\u001b[0m\u001b[0;34m\u001b[0m\u001b[0;34m\u001b[0m\u001b[0m\n\u001b[1;32m    249\u001b[0m         \u001b[0;31m# we need to just return without initializing in that case.\u001b[0m\u001b[0;34m\u001b[0m\u001b[0;34m\u001b[0m\u001b[0m\n",
            "\u001b[0;31mRuntimeError\u001b[0m: Found no NVIDIA driver on your system. Please check that you have an NVIDIA GPU and installed a driver from http://www.nvidia.com/Download/index.aspx"
          ]
        }
      ]
    },
    {
      "cell_type": "code",
      "source": [
        "# Attibutes of Tensor\n",
        "print(my_tensor)\n",
        "print(my_tensor.dtype)\n",
        "print(my_tensor.device)\n",
        "print(my_tensor.shape)\n",
        "print(my_tensor.requires_grad)\n",
        "\n",
        "# tensor from CPU to GPU\n",
        "# tensor.to('cuda')"
      ],
      "metadata": {
        "colab": {
          "base_uri": "https://localhost:8080/"
        },
        "id": "It9RyOE6EnNm",
        "outputId": "9ddff05e-0af1-4a42-b017-4e00ea60986f"
      },
      "execution_count": null,
      "outputs": [
        {
          "output_type": "stream",
          "name": "stdout",
          "text": [
            "tensor([[1., 2., 3.],\n",
            "        [4., 5., 6.]], device='cuda:0', requires_grad=True)\n",
            "torch.float32\n",
            "cuda:0\n",
            "torch.Size([2, 3])\n",
            "True\n"
          ]
        }
      ]
    },
    {
      "cell_type": "code",
      "source": [
        "# NOTE: A Tensor can be created by using torch.Tensor or torch.FloatTensor(captital T) and torch.tensor([])\n",
        "# Default type for torch.Tensor -> float32 i.e. Float Tensor and Default type for torch.tensor -> int64 i.e. Long Tensor\n",
        "# Also cannot define dtype for torch.Tensor which is made to be used as float32. Can change dtype for torch.tensor\n",
        "\n",
        "tensor = torch.Tensor([1,2,3]) # only float 32\n",
        "print(tensor)\n",
        "print(tensor.dtype)\n",
        "\n",
        "tensor = torch.tensor([1,2,3]) # any dtype\n",
        "print(tensor)\n",
        "print(tensor.dtype)"
      ],
      "metadata": {
        "colab": {
          "base_uri": "https://localhost:8080/"
        },
        "id": "onl00pQU_1lo",
        "outputId": "b85f50fa-9196-42c1-dbb1-731df7ba4c8d"
      },
      "execution_count": null,
      "outputs": [
        {
          "output_type": "stream",
          "name": "stdout",
          "text": [
            "tensor([1., 2., 3.])\n",
            "torch.float32\n",
            "tensor([1, 2, 3])\n",
            "torch.int64\n"
          ]
        }
      ]
    },
    {
      "cell_type": "code",
      "source": [
        "# tensor = torch.Tensor([1,2,3],dtype = torch.float64)  # error as dtype can only be torch.float32 for torch.Tensor() and any other type for torch.tensor()"
      ],
      "metadata": {
        "colab": {
          "base_uri": "https://localhost:8080/",
          "height": 269
        },
        "id": "9g-_WUNh_1sI",
        "outputId": "09e507af-247d-4c98-8df2-dc828c90e576"
      },
      "execution_count": null,
      "outputs": [
        {
          "output_type": "error",
          "ename": "TypeError",
          "evalue": "ignored",
          "traceback": [
            "\u001b[0;31m---------------------------------------------------------------------------\u001b[0m",
            "\u001b[0;31mTypeError\u001b[0m                                 Traceback (most recent call last)",
            "\u001b[0;32m<ipython-input-14-a994d91b9bb1>\u001b[0m in \u001b[0;36m<cell line: 1>\u001b[0;34m()\u001b[0m\n\u001b[0;32m----> 1\u001b[0;31m \u001b[0mtensor\u001b[0m \u001b[0;34m=\u001b[0m \u001b[0mtorch\u001b[0m\u001b[0;34m.\u001b[0m\u001b[0mTensor\u001b[0m\u001b[0;34m(\u001b[0m\u001b[0;34m[\u001b[0m\u001b[0;36m1\u001b[0m\u001b[0;34m,\u001b[0m\u001b[0;36m2\u001b[0m\u001b[0;34m,\u001b[0m\u001b[0;36m3\u001b[0m\u001b[0;34m]\u001b[0m\u001b[0;34m,\u001b[0m\u001b[0mdtype\u001b[0m \u001b[0;34m=\u001b[0m \u001b[0mtorch\u001b[0m\u001b[0;34m.\u001b[0m\u001b[0mfloat64\u001b[0m\u001b[0;34m)\u001b[0m\u001b[0;34m\u001b[0m\u001b[0;34m\u001b[0m\u001b[0m\n\u001b[0m",
            "\u001b[0;31mTypeError\u001b[0m: new() received an invalid combination of arguments - got (list, dtype=torch.dtype), but expected one of:\n * (*, torch.device device)\n      didn't match because some of the keywords were incorrect: dtype\n * (torch.Storage storage)\n * (Tensor other)\n * (tuple of ints size, *, torch.device device)\n * (object data, *, torch.device device)\n"
          ]
        }
      ]
    },
    {
      "cell_type": "code",
      "source": [],
      "metadata": {
        "id": "rUCF8GHg_1wE"
      },
      "execution_count": null,
      "outputs": []
    },
    {
      "cell_type": "markdown",
      "source": [
        "### Other Common Initialisations\n",
        "\n",
        "1. empty\n",
        "2. zeros\n",
        "3. rand\n",
        "4. ones\n",
        "5. eye ; Identity Matrix\n",
        "6. arange ; ~ to range in python\n"
      ],
      "metadata": {
        "id": "m-7I_7ui-PMv"
      }
    },
    {
      "cell_type": "code",
      "source": [
        "x = torch.empty(size=(3,3))\n",
        "print(x)"
      ],
      "metadata": {
        "colab": {
          "base_uri": "https://localhost:8080/"
        },
        "id": "cKZlh8Zb-ZyH",
        "outputId": "2c28339c-3c88-4613-eef7-c35ab98f5862"
      },
      "execution_count": null,
      "outputs": [
        {
          "output_type": "stream",
          "name": "stdout",
          "text": [
            "tensor([[1.8531e-18, 4.5722e-41, 1.8531e-18],\n",
            "        [4.5722e-41, 4.4842e-44, 0.0000e+00],\n",
            "        [8.9683e-44, 0.0000e+00, 2.4016e-34]])\n"
          ]
        }
      ]
    },
    {
      "cell_type": "code",
      "source": [
        "x = torch.zeros(size=(3,3))\n",
        "print(x)"
      ],
      "metadata": {
        "colab": {
          "base_uri": "https://localhost:8080/"
        },
        "id": "b3Gec-La-Z-M",
        "outputId": "3e977a72-faf3-4fdd-8aea-f51bee9daccb"
      },
      "execution_count": null,
      "outputs": [
        {
          "output_type": "stream",
          "name": "stdout",
          "text": [
            "tensor([[0., 0., 0.],\n",
            "        [0., 0., 0.],\n",
            "        [0., 0., 0.]])\n"
          ]
        }
      ]
    },
    {
      "cell_type": "code",
      "source": [
        "x = torch.rand(size=(3,3))\n",
        "print(x)"
      ],
      "metadata": {
        "colab": {
          "base_uri": "https://localhost:8080/"
        },
        "id": "txm-WmVK-aBm",
        "outputId": "52b0d996-cf16-4a93-f11a-7d83b65884c3"
      },
      "execution_count": null,
      "outputs": [
        {
          "output_type": "stream",
          "name": "stdout",
          "text": [
            "tensor([[0.3825, 0.6685, 0.9143],\n",
            "        [0.1755, 0.5724, 0.7883],\n",
            "        [0.4378, 0.6555, 0.2718]])\n"
          ]
        }
      ]
    },
    {
      "cell_type": "code",
      "source": [
        "x = torch.ones(size=(3,3))\n",
        "print(x)"
      ],
      "metadata": {
        "colab": {
          "base_uri": "https://localhost:8080/"
        },
        "id": "t2G930gG-aEq",
        "outputId": "f56cbd7b-aa09-4124-c96a-5030e8add501"
      },
      "execution_count": null,
      "outputs": [
        {
          "output_type": "stream",
          "name": "stdout",
          "text": [
            "tensor([[1., 1., 1.],\n",
            "        [1., 1., 1.],\n",
            "        [1., 1., 1.]])\n"
          ]
        }
      ]
    },
    {
      "cell_type": "code",
      "source": [
        "x = torch.eye(3,3)\n",
        "print(x)"
      ],
      "metadata": {
        "colab": {
          "base_uri": "https://localhost:8080/"
        },
        "id": "U75hk-Yb-aIO",
        "outputId": "550daa6e-9d9d-463a-ff9d-3ee69f784825"
      },
      "execution_count": null,
      "outputs": [
        {
          "output_type": "stream",
          "name": "stdout",
          "text": [
            "tensor([[1., 0., 0.],\n",
            "        [0., 1., 0.],\n",
            "        [0., 0., 1.]])\n"
          ]
        }
      ]
    },
    {
      "cell_type": "code",
      "source": [
        "x = torch.arange(start = 3,end = 10, step=1)\n",
        "print(x)"
      ],
      "metadata": {
        "colab": {
          "base_uri": "https://localhost:8080/"
        },
        "id": "quz4btTN-uk-",
        "outputId": "cf74ead6-3ff5-4516-851d-bcd1b41d18bf"
      },
      "execution_count": null,
      "outputs": [
        {
          "output_type": "stream",
          "name": "stdout",
          "text": [
            "tensor([3, 4, 5, 6, 7, 8, 9])\n"
          ]
        }
      ]
    },
    {
      "cell_type": "code",
      "source": [
        "x = torch.linspace(start = 0.1,end = 1, steps=10)\n",
        "print(x)"
      ],
      "metadata": {
        "colab": {
          "base_uri": "https://localhost:8080/"
        },
        "id": "rY-M9Y4b-whz",
        "outputId": "b6bf5437-3e1f-4285-b31b-9c0ad208e98f"
      },
      "execution_count": null,
      "outputs": [
        {
          "output_type": "stream",
          "name": "stdout",
          "text": [
            "tensor([0.1000, 0.2000, 0.3000, 0.4000, 0.5000, 0.6000, 0.7000, 0.8000, 0.9000,\n",
            "        1.0000])\n"
          ]
        }
      ]
    },
    {
      "cell_type": "markdown",
      "source": [
        "## Distribution"
      ],
      "metadata": {
        "id": "N8WJWiIY_Qa6"
      }
    },
    {
      "cell_type": "code",
      "source": [
        "x = torch.empty(size = (1,5)).normal_(mean=0,std=1)\n",
        "print(x)"
      ],
      "metadata": {
        "colab": {
          "base_uri": "https://localhost:8080/"
        },
        "id": "8_gjeBtc-wir",
        "outputId": "8233aa59-d935-4ae2-8d8c-9407168e4b2c"
      },
      "execution_count": 3,
      "outputs": [
        {
          "output_type": "stream",
          "name": "stdout",
          "text": [
            "tensor([[ 0.2485,  0.4313,  0.5599, -0.4909,  2.0655]])\n"
          ]
        }
      ]
    },
    {
      "cell_type": "code",
      "source": [
        "x = torch.empty(size = (1,5)).uniform_(0,1) # becomes similar to rand\n",
        "print(x)"
      ],
      "metadata": {
        "id": "qhUV59FK-woY",
        "colab": {
          "base_uri": "https://localhost:8080/"
        },
        "outputId": "2e4dce6b-05f7-4472-ee30-83ae0b625a23"
      },
      "execution_count": 4,
      "outputs": [
        {
          "output_type": "stream",
          "name": "stdout",
          "text": [
            "tensor([[0.4793, 0.2288, 0.1678, 0.9231, 0.3348]])\n"
          ]
        }
      ]
    },
    {
      "cell_type": "markdown",
      "source": [
        "# Convert Tensors"
      ],
      "metadata": {
        "id": "asR3GEp2_5UP"
      }
    },
    {
      "cell_type": "code",
      "source": [
        "import torch\n",
        "# Convert tensor to other types:\n",
        "tensor = torch.arange(4)\n",
        "print(tensor)\n",
        "print(tensor.bool()) # True/False\n",
        "print(tensor.type())"
      ],
      "metadata": {
        "colab": {
          "base_uri": "https://localhost:8080/"
        },
        "id": "J-66Sv1A_4ZA",
        "outputId": "8f144a87-a8ba-46b3-8ed4-62a1f546af05"
      },
      "execution_count": null,
      "outputs": [
        {
          "output_type": "stream",
          "name": "stdout",
          "text": [
            "tensor([0, 1, 2, 3])\n",
            "tensor([False,  True,  True,  True])\n",
            "torch.LongTensor\n"
          ]
        }
      ]
    },
    {
      "cell_type": "code",
      "source": [
        "tensor = torch.tensor([1,2,3])  # will result similarly for torch.Tensor([])\n",
        "\n",
        "new_tensor = tensor.type(torch.HalfTensor)\n",
        "print(new_tensor.type())\n",
        "\n",
        "# all floats\n",
        "new_tensor = tensor.double()\n",
        "print(new_tensor.type())\n",
        "\n",
        "new_tensor = tensor.float()\n",
        "print(new_tensor.type())\n",
        "\n",
        "new_tensor = tensor.half()\n",
        "print(new_tensor.type())\n",
        "\n",
        "new_tensor = tensor.byte()\n",
        "print(new_tensor.type())\n",
        "\n",
        "# all ints\n",
        "new_tensor = tensor.long()\n",
        "print(new_tensor.type())\n",
        "\n",
        "new_tensor = tensor.int()\n",
        "print(new_tensor.type())\n",
        "\n",
        "new_tensor = tensor.short()\n",
        "print(new_tensor.type())\n",
        "\n",
        "new_tensor = tensor.char()\n",
        "print(new_tensor.type())"
      ],
      "metadata": {
        "colab": {
          "base_uri": "https://localhost:8080/"
        },
        "id": "H86ytMAZBSC3",
        "outputId": "2a3ffb93-13ca-4f45-c851-6a0f9abd6eb5"
      },
      "execution_count": null,
      "outputs": [
        {
          "output_type": "stream",
          "name": "stdout",
          "text": [
            "torch.HalfTensor\n",
            "torch.DoubleTensor\n",
            "torch.FloatTensor\n",
            "torch.HalfTensor\n",
            "torch.ByteTensor\n",
            "torch.LongTensor\n",
            "torch.IntTensor\n",
            "torch.ShortTensor\n",
            "torch.CharTensor\n"
          ]
        }
      ]
    },
    {
      "cell_type": "code",
      "source": [
        "tensor = torch.Tensor([1,2,3])\n"
      ],
      "metadata": {
        "colab": {
          "base_uri": "https://localhost:8080/"
        },
        "id": "92EbND-EBSEY",
        "outputId": "fc5130a3-1899-4103-c0e7-00327c378fbe"
      },
      "execution_count": null,
      "outputs": [
        {
          "output_type": "stream",
          "name": "stdout",
          "text": [
            "torch.HalfTensor\n",
            "torch.DoubleTensor\n"
          ]
        }
      ]
    },
    {
      "cell_type": "markdown",
      "source": [
        "# Array To Tensor Conversion"
      ],
      "metadata": {
        "id": "2KGpdVgwAHcy"
      }
    },
    {
      "cell_type": "code",
      "source": [
        "import numpy as np\n",
        "np_array = np.zeros((5,5))\n",
        "\n",
        "tensor = torch.from_numpy(np_array)\n",
        "print('Numpy to Tensor',type(tensor))\n",
        "\n",
        "np_array_back = tensor.numpy()\n",
        "print('Tensor to Numpy',type(np_array_back))\n",
        "\n"
      ],
      "metadata": {
        "colab": {
          "base_uri": "https://localhost:8080/"
        },
        "id": "-JeTOLy0-wpf",
        "outputId": "bcbb6048-9eb3-4341-d503-5259fc696f0c"
      },
      "execution_count": null,
      "outputs": [
        {
          "output_type": "stream",
          "name": "stdout",
          "text": [
            "Numpy to Tensor <class 'torch.Tensor'>\n",
            "Tensor to Numpy <class 'numpy.ndarray'>\n"
          ]
        }
      ]
    },
    {
      "cell_type": "markdown",
      "source": [
        "## Tensor Math & Comparison Operations"
      ],
      "metadata": {
        "id": "2abxFGt2BDYR"
      }
    },
    {
      "cell_type": "code",
      "source": [
        "import torch\n",
        "\n",
        "x = torch.tensor([1,2,3])\n",
        "y = torch.tensor([4,5,6])"
      ],
      "metadata": {
        "id": "xbXAOLzc-wu-"
      },
      "execution_count": null,
      "outputs": []
    },
    {
      "cell_type": "code",
      "source": [
        "# Addition - 3 ways\n",
        "# (i) torch.ops(tensor1,tensor2,output = z)\n",
        "# (ii) z = torch.ops(tensor1,tensor2)\n",
        "# (iii) z = tensor1 + tensor2\n",
        "# (iv) z = tensor1.ops_(tensor2)\n",
        "# (v) z =\n",
        "\n",
        "\n",
        "\n",
        "# (i) using empty tensor\n",
        "z1 = torch.empty(3)\n",
        "torch.add(x,y,out=z1)\n",
        "print('z1',z1)\n",
        "\n",
        "# (ii) using .add\n",
        "z2 = torch.add(x,y)\n",
        "print('z2',z2)\n",
        "\n",
        "# (iii) using + operation\n",
        "z3 = x+y\n",
        "print('z3',z3)"
      ],
      "metadata": {
        "colab": {
          "base_uri": "https://localhost:8080/"
        },
        "id": "YAb5ovJS-wxD",
        "outputId": "f502bddf-424c-4362-d634-05d00ca3dc60"
      },
      "execution_count": null,
      "outputs": [
        {
          "output_type": "stream",
          "name": "stdout",
          "text": [
            "z1 tensor([10., 10., 10.])\n",
            "z2 tensor([10, 10, 10])\n",
            "z3 tensor([10, 10, 10])\n"
          ]
        }
      ]
    },
    {
      "cell_type": "code",
      "source": [
        "# Subtraction\n",
        "z1=x-y\n",
        "print('z1',z1)"
      ],
      "metadata": {
        "colab": {
          "base_uri": "https://localhost:8080/"
        },
        "id": "8XleG6r0Fntd",
        "outputId": "2cb81b70-4989-4283-f642-df0241a9f4b5"
      },
      "execution_count": null,
      "outputs": [
        {
          "output_type": "stream",
          "name": "stdout",
          "text": [
            "z1 tensor([-8, -6, -4])\n"
          ]
        }
      ]
    },
    {
      "cell_type": "code",
      "source": [
        "# Division - true_divide does the element-wise division of matrices\n",
        "z = torch.true_divide(x,y)\n",
        "print('z',z)"
      ],
      "metadata": {
        "colab": {
          "base_uri": "https://localhost:8080/"
        },
        "id": "62UAxJCK-imt",
        "outputId": "3eae894c-467f-4d66-e17c-19f073e74983"
      },
      "execution_count": null,
      "outputs": [
        {
          "output_type": "stream",
          "name": "stdout",
          "text": [
            "z tensor([0.2500, 0.4000, 0.5000])\n"
          ]
        }
      ]
    },
    {
      "cell_type": "code",
      "source": [
        "# Exponentiation - pow does elementwise exponentiation\n",
        "z = x.pow(2)\n",
        "print('z',z)\n",
        "z = x**2\n",
        "print('z',z)"
      ],
      "metadata": {
        "colab": {
          "base_uri": "https://localhost:8080/"
        },
        "id": "YzV8WjqM-inh",
        "outputId": "450a6bc7-4efb-4a65-8f96-72a0bc055a07"
      },
      "execution_count": null,
      "outputs": [
        {
          "output_type": "stream",
          "name": "stdout",
          "text": [
            "z tensor([1, 4, 9])\n",
            "z tensor([1, 4, 9])\n"
          ]
        }
      ]
    },
    {
      "cell_type": "code",
      "source": [
        "# inplace operations\n",
        "t = torch.zeros(3)\n",
        "\n",
        "# (i) tensor1.ops_(tensor2) Add underscore \"_\" after the operation name\n",
        "t.add_(x)\n",
        "print(t)\n",
        "\n",
        "# (ii)\n",
        "t+=x\n",
        "print(t)"
      ],
      "metadata": {
        "colab": {
          "base_uri": "https://localhost:8080/"
        },
        "id": "d5zTlt2LGTC4",
        "outputId": "164d3872-6417-407a-b293-81608a0673fb"
      },
      "execution_count": null,
      "outputs": [
        {
          "output_type": "stream",
          "name": "stdout",
          "text": [
            "tensor([1., 2., 3.])\n",
            "tensor([2., 4., 6.])\n"
          ]
        }
      ]
    },
    {
      "cell_type": "code",
      "source": [
        "# simple comparison\n",
        "z = x>0\n",
        "print('z',z)\n",
        "\n",
        "z = x<0\n",
        "print('z',z)"
      ],
      "metadata": {
        "colab": {
          "base_uri": "https://localhost:8080/"
        },
        "id": "XEQJpvaj-itc",
        "outputId": "9a8eb4fb-ac93-4768-9532-c2dff7641a7b"
      },
      "execution_count": null,
      "outputs": [
        {
          "output_type": "stream",
          "name": "stdout",
          "text": [
            "z tensor([True, True, True])\n",
            "z tensor([False, False, False])\n"
          ]
        }
      ]
    },
    {
      "cell_type": "markdown",
      "source": [
        "## Matrix Operations"
      ],
      "metadata": {
        "id": "UT_4icTruvSm"
      }
    },
    {
      "cell_type": "code",
      "source": [
        "# Matrix Multiplication\n",
        "x1 = torch.rand((2,5))\n",
        "x2 = torch.rand((5,3))\n",
        "\n",
        "# (i) .mm\n",
        "x3 = torch.mm(x1,x2)\n",
        "print('x3',x3)\n",
        "\n",
        "# (ii)\n",
        "x3 = x1.mm(x2)\n",
        "print('x3',x3)\n"
      ],
      "metadata": {
        "colab": {
          "base_uri": "https://localhost:8080/"
        },
        "id": "ZcoaKG0N-iui",
        "outputId": "fbf3799d-5470-4da4-ec0a-ffe9f164af07"
      },
      "execution_count": null,
      "outputs": [
        {
          "output_type": "stream",
          "name": "stdout",
          "text": [
            "x3 tensor([[1.4781, 1.0279, 1.4752],\n",
            "        [0.8695, 0.5285, 1.1405]])\n",
            "x3 tensor([[1.4781, 1.0279, 1.4752],\n",
            "        [0.8695, 0.5285, 1.1405]])\n"
          ]
        }
      ]
    },
    {
      "cell_type": "code",
      "source": [
        "# element wise multiplication\n",
        "x = torch.ones(3,3)*3\n",
        "y = torch.ones(3,3)*2\n",
        "print(x,y)\n",
        "\n",
        "z = x*y\n",
        "print('z',z)"
      ],
      "metadata": {
        "id": "xvUlZX-fF-AT",
        "colab": {
          "base_uri": "https://localhost:8080/"
        },
        "outputId": "3e267285-9c09-429f-9abc-6508e3683215"
      },
      "execution_count": null,
      "outputs": [
        {
          "output_type": "stream",
          "name": "stdout",
          "text": [
            "tensor([[3., 3., 3.],\n",
            "        [3., 3., 3.],\n",
            "        [3., 3., 3.]]) tensor([[2., 2., 2.],\n",
            "        [2., 2., 2.],\n",
            "        [2., 2., 2.]])\n",
            "z tensor([[6., 6., 6.],\n",
            "        [6., 6., 6.],\n",
            "        [6., 6., 6.]])\n"
          ]
        }
      ]
    },
    {
      "cell_type": "markdown",
      "source": [
        "## Broadcasting\n",
        "While operating on two different matrices, the matrix with lower dimension is broadcasted to the one with higher dimension.\n",
        "* eg. (1,5) x2 is broadcasted to (5,5) in x1."
      ],
      "metadata": {
        "id": "OaYgoXKlwEOV"
      }
    },
    {
      "cell_type": "code",
      "source": [
        "# ROW Broadcasting\n",
        "x1 = torch.ones((5,5))*3\n",
        "x2 = torch.ones((1,5))*2\n",
        "\n",
        "print(x1)\n",
        "print(x2)\n",
        "\n",
        "z = x1-x2\n",
        "print(z)\n",
        "z = x1**x2\n",
        "print(z)"
      ],
      "metadata": {
        "id": "_1sbkEBxw-gN",
        "colab": {
          "base_uri": "https://localhost:8080/"
        },
        "outputId": "832ca9ae-8499-4ca5-db94-220408bceb7b"
      },
      "execution_count": null,
      "outputs": [
        {
          "output_type": "stream",
          "name": "stdout",
          "text": [
            "tensor([[3., 3., 3., 3., 3.],\n",
            "        [3., 3., 3., 3., 3.],\n",
            "        [3., 3., 3., 3., 3.],\n",
            "        [3., 3., 3., 3., 3.],\n",
            "        [3., 3., 3., 3., 3.]])\n",
            "tensor([[2., 2., 2., 2., 2.]])\n",
            "tensor([[1., 1., 1., 1., 1.],\n",
            "        [1., 1., 1., 1., 1.],\n",
            "        [1., 1., 1., 1., 1.],\n",
            "        [1., 1., 1., 1., 1.],\n",
            "        [1., 1., 1., 1., 1.]])\n",
            "tensor([[9., 9., 9., 9., 9.],\n",
            "        [9., 9., 9., 9., 9.],\n",
            "        [9., 9., 9., 9., 9.],\n",
            "        [9., 9., 9., 9., 9.],\n",
            "        [9., 9., 9., 9., 9.]])\n"
          ]
        }
      ]
    },
    {
      "cell_type": "code",
      "source": [
        "# COLUMN Broadcasting\n",
        "x1 = torch.ones((5,5))*3\n",
        "x2 = torch.ones((5,1))*2\n",
        "\n",
        "print(x1)\n",
        "print(x2)\n",
        "\n",
        "z = x1-x2\n",
        "print(z)\n",
        "z = x1**x2\n",
        "print(z)"
      ],
      "metadata": {
        "colab": {
          "base_uri": "https://localhost:8080/"
        },
        "id": "KvnlqGzjGMdg",
        "outputId": "94bc9862-98b4-4854-a645-bc813e11d0c8"
      },
      "execution_count": null,
      "outputs": [
        {
          "output_type": "stream",
          "name": "stdout",
          "text": [
            "tensor([[3., 3., 3., 3., 3.],\n",
            "        [3., 3., 3., 3., 3.],\n",
            "        [3., 3., 3., 3., 3.],\n",
            "        [3., 3., 3., 3., 3.],\n",
            "        [3., 3., 3., 3., 3.]])\n",
            "tensor([[2.],\n",
            "        [2.],\n",
            "        [2.],\n",
            "        [2.],\n",
            "        [2.]])\n",
            "tensor([[1., 1., 1., 1., 1.],\n",
            "        [1., 1., 1., 1., 1.],\n",
            "        [1., 1., 1., 1., 1.],\n",
            "        [1., 1., 1., 1., 1.],\n",
            "        [1., 1., 1., 1., 1.]])\n",
            "tensor([[9., 9., 9., 9., 9.],\n",
            "        [9., 9., 9., 9., 9.],\n",
            "        [9., 9., 9., 9., 9.],\n",
            "        [9., 9., 9., 9., 9.],\n",
            "        [9., 9., 9., 9., 9.]])\n"
          ]
        }
      ]
    },
    {
      "cell_type": "markdown",
      "source": [
        "## Other useful tensor operations"
      ],
      "metadata": {
        "id": "tFFLN1Rnx9Ee"
      }
    },
    {
      "cell_type": "code",
      "source": [
        "x = torch.tensor([-1,2,3,4])\n",
        "\n",
        "# sum of all elements\n",
        "sum_x = torch.sum(x,dim=0)\n",
        "print('sum_x',sum_x)"
      ],
      "metadata": {
        "colab": {
          "base_uri": "https://localhost:8080/"
        },
        "id": "QavCbwvGv7yV",
        "outputId": "c7a21e10-fd92-495b-92df-ea1b5532f149"
      },
      "execution_count": null,
      "outputs": [
        {
          "output_type": "stream",
          "name": "stdout",
          "text": [
            "sum_x tensor(8)\n"
          ]
        }
      ]
    },
    {
      "cell_type": "code",
      "source": [
        "# max-min values and their indices\n",
        "\n",
        "values,indices = torch.max(x,dim=0)\n",
        "print('values,indices',values,indices)\n",
        "\n",
        "values,indices = torch.min(x,dim=0)\n",
        "print('values,indices',values,indices)\n"
      ],
      "metadata": {
        "colab": {
          "base_uri": "https://localhost:8080/"
        },
        "id": "GvMYW7RFyPvF",
        "outputId": "8269ca9f-f945-4304-9c84-c021fb3c7530"
      },
      "execution_count": null,
      "outputs": [
        {
          "output_type": "stream",
          "name": "stdout",
          "text": [
            "values,indices tensor(4) tensor(3)\n",
            "values,indices tensor(-1) tensor(0)\n"
          ]
        }
      ]
    },
    {
      "cell_type": "code",
      "source": [
        "# absolute values\n",
        "abs_x = torch.abs(x)\n",
        "print('abs_x',abs_x)"
      ],
      "metadata": {
        "colab": {
          "base_uri": "https://localhost:8080/"
        },
        "id": "hlID5r48yo6P",
        "outputId": "51b82958-de04-40a9-ed2f-ff7d382f4116"
      },
      "execution_count": null,
      "outputs": [
        {
          "output_type": "stream",
          "name": "stdout",
          "text": [
            "abs_x tensor([1, 2, 3, 4])\n"
          ]
        }
      ]
    },
    {
      "cell_type": "code",
      "source": [
        "# index with maximum value\n",
        "z = torch.argmax(x,dim=0)\n",
        "print('z',z)\n",
        "\n",
        "# index with minimum value\n",
        "z = torch.argmin(x,dim=0)\n",
        "print('z',z)"
      ],
      "metadata": {
        "colab": {
          "base_uri": "https://localhost:8080/"
        },
        "id": "RyHvkO2Jy9i1",
        "outputId": "22a54880-e257-4c48-bcc9-8d9bc4b79c47"
      },
      "execution_count": null,
      "outputs": [
        {
          "output_type": "stream",
          "name": "stdout",
          "text": [
            "z tensor(3)\n",
            "z tensor(0)\n"
          ]
        }
      ]
    },
    {
      "cell_type": "code",
      "source": [
        "# mean of elements\n",
        "mean_x = torch.mean(x.float(),dim=0)\n",
        "mean_x"
      ],
      "metadata": {
        "colab": {
          "base_uri": "https://localhost:8080/"
        },
        "id": "wH7HWVz-zEeb",
        "outputId": "954cb028-25bd-42e9-c347-7ebc968f6cca"
      },
      "execution_count": null,
      "outputs": [
        {
          "output_type": "execute_result",
          "data": {
            "text/plain": [
              "tensor(2.)"
            ]
          },
          "metadata": {},
          "execution_count": 37
        }
      ]
    },
    {
      "cell_type": "code",
      "source": [
        "# check if two tensors are equal element-wise\n",
        "\n",
        "x= torch.tensor([1,2,3])\n",
        "y= torch.tensor([1,2,4])\n",
        "\n",
        "z = torch.eq(x,y)\n",
        "print(z)\n",
        "\n"
      ],
      "metadata": {
        "colab": {
          "base_uri": "https://localhost:8080/"
        },
        "id": "XpZ7KJio0NKu",
        "outputId": "2c0f74e1-0f16-495c-9bc5-d2b25cca198a"
      },
      "execution_count": 9,
      "outputs": [
        {
          "output_type": "stream",
          "name": "stdout",
          "text": [
            "tensor([ True,  True, False])\n"
          ]
        }
      ]
    },
    {
      "cell_type": "code",
      "source": [
        "\n",
        "# sorting array\n",
        "\n",
        "torch.sort(y,dim=0,descending=False)\n"
      ],
      "metadata": {
        "colab": {
          "base_uri": "https://localhost:8080/"
        },
        "id": "kHIbnsW90Z9s",
        "outputId": "e1bc858a-ead3-4147-9797-7b6810616f90"
      },
      "execution_count": 10,
      "outputs": [
        {
          "output_type": "execute_result",
          "data": {
            "text/plain": [
              "torch.return_types.sort(\n",
              "values=tensor([1, 2, 4]),\n",
              "indices=tensor([0, 1, 2]))"
            ]
          },
          "metadata": {},
          "execution_count": 10
        }
      ]
    },
    {
      "cell_type": "code",
      "source": [
        "# clamping tensor based on min and max values. All values less than min value would become the min value and\n",
        "# all values greater than max value would become the max value.\n",
        "x = torch.tensor([[-1,-2,3,4],[5,6,11,13]])\n",
        "print('x',x)\n",
        "\n",
        "z = torch.clamp(x,min=0,max=10)\n",
        "print('z',z)\n",
        "\n",
        "# Note that torch.clamp(x,min=0) becomes a relu function\n"
      ],
      "metadata": {
        "colab": {
          "base_uri": "https://localhost:8080/"
        },
        "id": "J2Vd7awK0pbp",
        "outputId": "5be827f3-d0b7-4f92-fc8d-8970043e59d8"
      },
      "execution_count": 5,
      "outputs": [
        {
          "output_type": "stream",
          "name": "stdout",
          "text": [
            "x tensor([[-1, -2,  3,  4],\n",
            "        [ 5,  6, 11, 13]])\n",
            "z tensor([[ 0,  0,  3,  4],\n",
            "        [ 5,  6, 10, 10]])\n"
          ]
        }
      ]
    },
    {
      "cell_type": "code",
      "source": [
        "x = torch.tensor( [1,0,1,1,1] , dtype = torch.bool )\n",
        "z = torch.any(x)\n",
        "print('z',z)\n",
        "z = torch.all(x)\n",
        "print('z',z)"
      ],
      "metadata": {
        "colab": {
          "base_uri": "https://localhost:8080/"
        },
        "id": "WfIubqP10-sW",
        "outputId": "5a6de9fe-849b-4b43-8e6b-c5377a9d7753"
      },
      "execution_count": null,
      "outputs": [
        {
          "output_type": "stream",
          "name": "stdout",
          "text": [
            "z tensor(True)\n",
            "z tensor(False)\n"
          ]
        }
      ]
    },
    {
      "cell_type": "markdown",
      "source": [
        "## Tensor Indexing"
      ],
      "metadata": {
        "id": "IwZBy8s_ImP5"
      }
    },
    {
      "cell_type": "code",
      "source": [
        "batch_size = 10\n",
        "features = 25\n",
        "x = torch.rand((batch_size,features))\n",
        "\n",
        "print(x.shape)\n",
        "\n",
        "# first example\n",
        "print(x[0].shape)\n",
        "\n",
        "# first feature of all example\n",
        "print(x[:,0].shape)\n",
        "\n",
        "print(x[2,0:10])\n"
      ],
      "metadata": {
        "colab": {
          "base_uri": "https://localhost:8080/"
        },
        "id": "X0INbevaHqoU",
        "outputId": "8be0c9f4-c6db-40d9-a84d-319a74398d2e"
      },
      "execution_count": 11,
      "outputs": [
        {
          "output_type": "stream",
          "name": "stdout",
          "text": [
            "torch.Size([10, 25])\n",
            "torch.Size([25])\n",
            "torch.Size([10])\n",
            "tensor([0.5135, 0.7785, 0.0127, 0.9086, 0.5344, 0.2985, 0.1792, 0.8737, 0.0517,\n",
            "        0.8843])\n"
          ]
        }
      ]
    },
    {
      "cell_type": "code",
      "source": [
        "# fancy indexing\n",
        "# [i]\n",
        "x = torch.arange(10,20)\n",
        "print(x)\n",
        "indices = [2,5,8]\n",
        "print(x[indices])\n",
        "\n",
        "# [ii]\n",
        "x = torch.rand((3,5))\n",
        "print(x)\n",
        "rows = torch.tensor([1,0])\n",
        "cols = torch.tensor([4,0])\n",
        "print(rows,cols)\n",
        "print(x[rows,cols])\n",
        "print(x[rows,cols].shape)\n"
      ],
      "metadata": {
        "colab": {
          "base_uri": "https://localhost:8080/"
        },
        "id": "7F_zwP5tiM22",
        "outputId": "a9c4ef09-1622-472d-c3fe-2e4ecaa20988"
      },
      "execution_count": 14,
      "outputs": [
        {
          "output_type": "stream",
          "name": "stdout",
          "text": [
            "tensor([10, 11, 12, 13, 14, 15, 16, 17, 18, 19])\n",
            "tensor([12, 15, 18])\n",
            "tensor([[0.9964, 0.1489, 0.0907, 0.2917, 0.3452],\n",
            "        [0.0817, 0.7239, 0.4308, 0.2942, 0.1263],\n",
            "        [0.9523, 0.0301, 0.5777, 0.1209, 0.0624]])\n",
            "tensor([1, 0]) tensor([4, 0])\n",
            "tensor([0.1263, 0.9964])\n",
            "torch.Size([2])\n"
          ]
        }
      ]
    },
    {
      "cell_type": "code",
      "source": [
        "# More advanced indexing\n",
        "x = torch.arange(10)\n",
        "print(x[ (x<2) | (x>8) ])\n",
        "\n",
        "x = torch.arange(10)\n",
        "print(x[ (x>2) & (x<8) ])\n",
        "\n",
        "print(x[x.remainder(2)==0])"
      ],
      "metadata": {
        "colab": {
          "base_uri": "https://localhost:8080/"
        },
        "id": "WrRFsMXythsa",
        "outputId": "0d9551af-8009-4110-de12-9d0a4bd47256"
      },
      "execution_count": null,
      "outputs": [
        {
          "output_type": "stream",
          "name": "stdout",
          "text": [
            "tensor([0, 1, 9])\n",
            "tensor([3, 4, 5, 6, 7])\n",
            "tensor([0, 2, 4, 6, 8])\n"
          ]
        }
      ]
    },
    {
      "cell_type": "code",
      "source": [
        "torch.where(x>5,x,x*2) # if x>5; print(x) else print(x*2)"
      ],
      "metadata": {
        "colab": {
          "base_uri": "https://localhost:8080/"
        },
        "id": "Hf_kQON1uG4a",
        "outputId": "5f4fdd14-f152-41e2-cd09-c43bab0ee17d"
      },
      "execution_count": null,
      "outputs": [
        {
          "output_type": "execute_result",
          "data": {
            "text/plain": [
              "tensor([ 0,  2,  4,  6,  8, 10,  6,  7,  8,  9])"
            ]
          },
          "metadata": {},
          "execution_count": 14
        }
      ]
    },
    {
      "cell_type": "markdown",
      "source": [
        "## Tensor Reshaping"
      ],
      "metadata": {
        "id": "BxeqGRzVy0fq"
      }
    },
    {
      "cell_type": "code",
      "source": [
        "x = torch.arange(9)\n",
        "print('x',x)"
      ],
      "metadata": {
        "colab": {
          "base_uri": "https://localhost:8080/"
        },
        "id": "SRJbK8Yav0Jc",
        "outputId": "b49e2f19-9d3a-4eb7-873b-82f1bb9b5e04"
      },
      "execution_count": null,
      "outputs": [
        {
          "output_type": "stream",
          "name": "stdout",
          "text": [
            "x tensor([0, 1, 2, 3, 4, 5, 6, 7, 8])\n"
          ]
        }
      ]
    },
    {
      "cell_type": "code",
      "source": [
        "# converting it into 3x3 matrix\n",
        "x_3x3 = x.view(3,3)\n",
        "print(x_3x3)"
      ],
      "metadata": {
        "colab": {
          "base_uri": "https://localhost:8080/"
        },
        "id": "p5-mGvLuzZsP",
        "outputId": "26e54b8f-60c6-4f28-dc65-0b5d4ea6d1c4"
      },
      "execution_count": null,
      "outputs": [
        {
          "output_type": "stream",
          "name": "stdout",
          "text": [
            "tensor([[0, 1, 2],\n",
            "        [3, 4, 5],\n",
            "        [6, 7, 8]])\n"
          ]
        }
      ]
    },
    {
      "cell_type": "code",
      "source": [
        "x_3x3 = x.reshape(3,3)\n",
        "print(x_3x3)"
      ],
      "metadata": {
        "colab": {
          "base_uri": "https://localhost:8080/"
        },
        "id": "rBl5l9-Fzhqu",
        "outputId": "997cc9a3-afb7-4bc6-f630-2a60ea8008e5"
      },
      "execution_count": null,
      "outputs": [
        {
          "output_type": "stream",
          "name": "stdout",
          "text": [
            "tensor([[0, 1, 2],\n",
            "        [3, 4, 5],\n",
            "        [6, 7, 8]])\n"
          ]
        }
      ]
    },
    {
      "cell_type": "code",
      "source": [
        "# view vs reshape.\n",
        "'''\n",
        "view needs the data to be contiguous. for eg. if we have\n",
        "x = torch.arange(9) i.e. x = tensor([0, 1, 2, 3, 4, 5, 6, 7, 8])\n",
        "\n",
        "x_3x3 will show the numbers in matrix form but the data would be contiguous.\n",
        "Thus y=x_3x3.T will transform the matrix which will change the way data is stored\n",
        "i.e. [0,3,6,1,4,7,2,5,8] instead of [0,1,2,3,4,5,6,7,8]\n",
        "Then, y.view(9) will throw error.\n",
        "Reshape works fine for non-contiguous data.\n",
        "'''\n",
        "x = torch.arange(9)\n",
        "x_3x3 = x.view(3,3)\n",
        "y = x_3x3.T\n",
        "y.view(9)  # y.reshape(9) works for reshaping or y.contiguous().view(9)"
      ],
      "metadata": {
        "colab": {
          "base_uri": "https://localhost:8080/",
          "height": 226
        },
        "id": "pTBFSInTzj9S",
        "outputId": "6fde9caf-bbb6-4a20-809d-45bde570b11e"
      },
      "execution_count": null,
      "outputs": [
        {
          "output_type": "error",
          "ename": "RuntimeError",
          "evalue": "ignored",
          "traceback": [
            "\u001b[0;31m---------------------------------------------------------------------------\u001b[0m",
            "\u001b[0;31mRuntimeError\u001b[0m                              Traceback (most recent call last)",
            "\u001b[0;32m<ipython-input-20-94f6a3ddb8a4>\u001b[0m in \u001b[0;36m<cell line: 15>\u001b[0;34m()\u001b[0m\n\u001b[1;32m     13\u001b[0m \u001b[0mx_3x3\u001b[0m \u001b[0;34m=\u001b[0m \u001b[0mx\u001b[0m\u001b[0;34m.\u001b[0m\u001b[0mview\u001b[0m\u001b[0;34m(\u001b[0m\u001b[0;36m3\u001b[0m\u001b[0;34m,\u001b[0m\u001b[0;36m3\u001b[0m\u001b[0;34m)\u001b[0m\u001b[0;34m\u001b[0m\u001b[0;34m\u001b[0m\u001b[0m\n\u001b[1;32m     14\u001b[0m \u001b[0my\u001b[0m \u001b[0;34m=\u001b[0m \u001b[0mx_3x3\u001b[0m\u001b[0;34m.\u001b[0m\u001b[0mT\u001b[0m\u001b[0;34m\u001b[0m\u001b[0;34m\u001b[0m\u001b[0m\n\u001b[0;32m---> 15\u001b[0;31m \u001b[0my\u001b[0m\u001b[0;34m.\u001b[0m\u001b[0mview\u001b[0m\u001b[0;34m(\u001b[0m\u001b[0;36m9\u001b[0m\u001b[0;34m)\u001b[0m  \u001b[0;31m# y.reshape(9) works for reshaping or y.contiguous().view(9)\u001b[0m\u001b[0;34m\u001b[0m\u001b[0;34m\u001b[0m\u001b[0m\n\u001b[0m",
            "\u001b[0;31mRuntimeError\u001b[0m: view size is not compatible with input tensor's size and stride (at least one dimension spans across two contiguous subspaces). Use .reshape(...) instead."
          ]
        }
      ]
    },
    {
      "cell_type": "code",
      "source": [
        "#######################################################\n",
        "# contiguous vs non-contiguous Tensors\n",
        "#######################################################\n",
        "# is_contiguous() method to check if a tensor is contiguous or not\n",
        "# stride() returns the #jumps required to reach new row and new column eg. (3,1) represents 3 jumps for new row and 1 jump for new column\n",
        "# tensor.contiguous() returns itself if contiguoug or copies the data and makes them contiguous\n",
        "\n",
        "tensor = torch.arange(12).reshape(4,3)\n",
        "print(tensor)\n",
        "print(tensor.is_contiguous())\n",
        "print(tensor.contiguous())\n",
        "print(tensor.stride())\n",
        "\n",
        "tensor = tensor.T\n",
        "print(tensor)\n",
        "print(tensor.is_contiguous())\n",
        "print(tensor.stride()) # incorrect\n",
        "tensor = tensor.contiguous()\n",
        "print(tensor.is_contiguous())\n",
        "print(tensor.stride()) # correct\n"
      ],
      "metadata": {
        "colab": {
          "base_uri": "https://localhost:8080/"
        },
        "id": "Jp-s99fp9SbL",
        "outputId": "65bf45a5-bcdf-4c2c-953d-a8159cf27108"
      },
      "execution_count": null,
      "outputs": [
        {
          "output_type": "stream",
          "name": "stdout",
          "text": [
            "tensor([[ 0,  1,  2],\n",
            "        [ 3,  4,  5],\n",
            "        [ 6,  7,  8],\n",
            "        [ 9, 10, 11]])\n",
            "True\n",
            "tensor([[ 0,  1,  2],\n",
            "        [ 3,  4,  5],\n",
            "        [ 6,  7,  8],\n",
            "        [ 9, 10, 11]])\n",
            "(3, 1)\n",
            "tensor([[ 0,  3,  6,  9],\n",
            "        [ 1,  4,  7, 10],\n",
            "        [ 2,  5,  8, 11]])\n",
            "False\n",
            "(1, 3)\n",
            "True\n",
            "(4, 1)\n"
          ]
        }
      ]
    },
    {
      "cell_type": "code",
      "source": [
        "# concatenation\n",
        "x1 = torch.rand((32,3,64,64))\n",
        "x2 = torch.rand((32,3,64,64))\n",
        "print( torch.cat((x1,x2),dim=0).shape )\n",
        "print( torch.cat((x1,x2),dim=1).shape )"
      ],
      "metadata": {
        "colab": {
          "base_uri": "https://localhost:8080/"
        },
        "id": "ae1pHdwC2GXY",
        "outputId": "99984d4c-3777-4730-e695-dd01060ace59"
      },
      "execution_count": null,
      "outputs": [
        {
          "output_type": "stream",
          "name": "stdout",
          "text": [
            "torch.Size([64, 3, 64, 64])\n",
            "torch.Size([32, 6, 64, 64])\n"
          ]
        }
      ]
    },
    {
      "cell_type": "code",
      "source": [
        "# flatten keeping batchsize\n",
        "batch=64\n",
        "x = torch.rand((batch,2,5))\n",
        "z = x.view(batch,-1)\n",
        "print(z.shape)"
      ],
      "metadata": {
        "colab": {
          "base_uri": "https://localhost:8080/"
        },
        "id": "8xwQsRDV2shs",
        "outputId": "887c202a-7fe4-4337-e76f-680a2799a7af"
      },
      "execution_count": null,
      "outputs": [
        {
          "output_type": "stream",
          "name": "stdout",
          "text": [
            "torch.Size([64, 10])\n"
          ]
        }
      ]
    },
    {
      "cell_type": "code",
      "source": [
        "# suppose want to tanspose the matrix keeping the batch size\n",
        "# i.e. (64,2,5) should become (64,5,2)\n",
        "# x.permute(0,2,1) i.e. 0th dim will be at 0th dim ; 2nd dim will be at 1st dim and 1st dim will be at 2nd dim\n",
        "z = x.permute(0,2,1)\n",
        "print(z.shape)"
      ],
      "metadata": {
        "colab": {
          "base_uri": "https://localhost:8080/"
        },
        "id": "3iuqiLGh2_Wm",
        "outputId": "414c0158-b740-4ab2-a1de-16f7ab859882"
      },
      "execution_count": null,
      "outputs": [
        {
          "output_type": "stream",
          "name": "stdout",
          "text": [
            "torch.Size([64, 5, 2])\n"
          ]
        }
      ]
    },
    {
      "cell_type": "code",
      "source": [
        "###############################\n",
        "# squeeze vs unsqueeze  -  remove/add dimension\n",
        "###############################\n",
        "# works with only 1 as a dimension.\n",
        "\n",
        "# add dimensionality\n",
        "x = torch.arange(10) # already dim of 10\n",
        "print(x,x.shape)\n",
        "z1 = x.unsqueeze(0) # adding dim as 1,10\n",
        "print(z1,z1.shape)\n",
        "z2 = x.unsqueeze(1) # adding dim as 10,1\n",
        "print(z2,z2.shape)\n",
        "\n",
        "\n",
        "# remove dimensionality\n",
        "x = torch.rand(1,1,6)\n",
        "print(x)\n",
        "x = x.squeeze(0)\n",
        "print(x.shape)\n",
        "\n",
        "new_x = x.squeeze(1)\n",
        "print(new_x.shape)\n",
        "\n",
        "\n",
        "x = torch.rand(2,1,6)\n",
        "x = x.squeeze(0)   # doesnt work with non-one index\n",
        "print(x.shape)\n",
        "\n",
        "x = x.squeeze(1)\n",
        "print(x.shape)\n",
        "\n"
      ],
      "metadata": {
        "colab": {
          "base_uri": "https://localhost:8080/"
        },
        "id": "AJOOi3AI3ksr",
        "outputId": "02f695d6-13f3-4e7b-bdaa-ef3b2653d669"
      },
      "execution_count": null,
      "outputs": [
        {
          "output_type": "stream",
          "name": "stdout",
          "text": [
            "tensor([0, 1, 2, 3, 4, 5, 6, 7, 8, 9]) torch.Size([10])\n",
            "tensor([[0, 1, 2, 3, 4, 5, 6, 7, 8, 9]]) torch.Size([1, 10])\n",
            "tensor([[0],\n",
            "        [1],\n",
            "        [2],\n",
            "        [3],\n",
            "        [4],\n",
            "        [5],\n",
            "        [6],\n",
            "        [7],\n",
            "        [8],\n",
            "        [9]]) torch.Size([10, 1])\n",
            "tensor([[[0.9863, 0.6243, 0.2603, 0.5062, 0.8142, 0.2462]]])\n",
            "torch.Size([1, 6])\n",
            "torch.Size([1, 6])\n",
            "torch.Size([2, 1, 6])\n",
            "torch.Size([2, 6])\n"
          ]
        }
      ]
    },
    {
      "cell_type": "markdown",
      "source": [],
      "metadata": {
        "id": "2IsAxMrv4pii"
      }
    },
    {
      "cell_type": "code",
      "source": [],
      "metadata": {
        "id": "W_vjfJKj4BLl"
      },
      "execution_count": 14,
      "outputs": []
    },
    {
      "cell_type": "code",
      "source": [
        "\n",
        "'''\n",
        "Numpy to torch and vice versa can only be done on CPU. Here, we will shift tensors to GPU, where all the matrix multiplication\n",
        "operations are much faster. Then, while converting the tensor, python will throw an error which can be resolved by shifting\n",
        "the tensor on cpu first.\n",
        "'''\n",
        "if torch.cuda.is_available():\n",
        "  device = torch.device(\"cuda\")\n",
        "  x = torch.ones(5,device = device)   # tensor x on GPU\n",
        "  y = torch.ones(5)\n",
        "  y = y.to(device)  # tensor y on GPU\n",
        "  z = x + y\n",
        "  print(z)\n",
        "  try:\n",
        "    z = np.array(z)\n",
        "  except:\n",
        "    print('ERROR: Cant Convert torch to numpy or vice-versa on gpu. First get tensors on cpu ')\n",
        "  z = z.to(\"cpu\")\n",
        "  z = np.array(z)\n",
        "  print(z)"
      ],
      "metadata": {
        "id": "fBklm8jW4b8I"
      },
      "execution_count": 15,
      "outputs": []
    },
    {
      "cell_type": "code",
      "source": [
        "# complete"
      ],
      "metadata": {
        "id": "iqIwiXyS5IlZ"
      },
      "execution_count": null,
      "outputs": []
    },
    {
      "cell_type": "code",
      "source": [],
      "metadata": {
        "id": "96sluANr5I5k"
      },
      "execution_count": null,
      "outputs": []
    }
  ]
}